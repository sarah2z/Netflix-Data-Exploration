{
 "cells": [
  {
   "cell_type": "markdown",
   "metadata": {},
   "source": [
    "# Data Setup & Cleaning: \n",
    "Merge the movies and Netflix datasets on movie titles"
   ]
  },
  {
   "cell_type": "code",
   "execution_count": 1,
   "metadata": {},
   "outputs": [],
   "source": [
    "# Import statements\n",
    "import pandas as pd"
   ]
  },
  {
   "cell_type": "code",
   "execution_count": 2,
   "metadata": {},
   "outputs": [
    {
     "data": {
      "text/html": [
       "<div>\n",
       "<style scoped>\n",
       "    .dataframe tbody tr th:only-of-type {\n",
       "        vertical-align: middle;\n",
       "    }\n",
       "\n",
       "    .dataframe tbody tr th {\n",
       "        vertical-align: top;\n",
       "    }\n",
       "\n",
       "    .dataframe thead th {\n",
       "        text-align: right;\n",
       "    }\n",
       "</style>\n",
       "<table border=\"1\" class=\"dataframe\">\n",
       "  <thead>\n",
       "    <tr style=\"text-align: right;\">\n",
       "      <th></th>\n",
       "      <th>imdb_title_id</th>\n",
       "      <th>weighted_average_vote</th>\n",
       "      <th>total_votes</th>\n",
       "      <th>mean_vote</th>\n",
       "      <th>median_vote</th>\n",
       "      <th>votes_10</th>\n",
       "      <th>votes_9</th>\n",
       "      <th>votes_8</th>\n",
       "      <th>votes_7</th>\n",
       "      <th>votes_6</th>\n",
       "      <th>...</th>\n",
       "      <th>females_30age_avg_vote</th>\n",
       "      <th>females_30age_votes</th>\n",
       "      <th>females_45age_avg_vote</th>\n",
       "      <th>females_45age_votes</th>\n",
       "      <th>top1000_voters_rating</th>\n",
       "      <th>top1000_voters_votes</th>\n",
       "      <th>us_voters_rating</th>\n",
       "      <th>us_voters_votes</th>\n",
       "      <th>non_us_voters_rating</th>\n",
       "      <th>non_us_voters_votes</th>\n",
       "    </tr>\n",
       "  </thead>\n",
       "  <tbody>\n",
       "    <tr>\n",
       "      <th>0</th>\n",
       "      <td>tt0000009</td>\n",
       "      <td>5.9</td>\n",
       "      <td>154</td>\n",
       "      <td>5.9</td>\n",
       "      <td>6.0</td>\n",
       "      <td>12</td>\n",
       "      <td>4</td>\n",
       "      <td>10</td>\n",
       "      <td>43</td>\n",
       "      <td>28</td>\n",
       "      <td>...</td>\n",
       "      <td>5.7</td>\n",
       "      <td>13.0</td>\n",
       "      <td>4.5</td>\n",
       "      <td>4.0</td>\n",
       "      <td>5.7</td>\n",
       "      <td>34.0</td>\n",
       "      <td>6.4</td>\n",
       "      <td>51.0</td>\n",
       "      <td>6.0</td>\n",
       "      <td>70.0</td>\n",
       "    </tr>\n",
       "    <tr>\n",
       "      <th>1</th>\n",
       "      <td>tt0000574</td>\n",
       "      <td>6.1</td>\n",
       "      <td>589</td>\n",
       "      <td>6.3</td>\n",
       "      <td>6.0</td>\n",
       "      <td>57</td>\n",
       "      <td>18</td>\n",
       "      <td>58</td>\n",
       "      <td>137</td>\n",
       "      <td>139</td>\n",
       "      <td>...</td>\n",
       "      <td>6.2</td>\n",
       "      <td>23.0</td>\n",
       "      <td>6.6</td>\n",
       "      <td>14.0</td>\n",
       "      <td>6.4</td>\n",
       "      <td>66.0</td>\n",
       "      <td>6.0</td>\n",
       "      <td>96.0</td>\n",
       "      <td>6.2</td>\n",
       "      <td>331.0</td>\n",
       "    </tr>\n",
       "    <tr>\n",
       "      <th>2</th>\n",
       "      <td>tt0001892</td>\n",
       "      <td>5.8</td>\n",
       "      <td>188</td>\n",
       "      <td>6.0</td>\n",
       "      <td>6.0</td>\n",
       "      <td>6</td>\n",
       "      <td>6</td>\n",
       "      <td>17</td>\n",
       "      <td>44</td>\n",
       "      <td>52</td>\n",
       "      <td>...</td>\n",
       "      <td>5.8</td>\n",
       "      <td>4.0</td>\n",
       "      <td>6.8</td>\n",
       "      <td>7.0</td>\n",
       "      <td>5.4</td>\n",
       "      <td>32.0</td>\n",
       "      <td>6.2</td>\n",
       "      <td>31.0</td>\n",
       "      <td>5.9</td>\n",
       "      <td>123.0</td>\n",
       "    </tr>\n",
       "    <tr>\n",
       "      <th>3</th>\n",
       "      <td>tt0002101</td>\n",
       "      <td>5.2</td>\n",
       "      <td>446</td>\n",
       "      <td>5.3</td>\n",
       "      <td>5.0</td>\n",
       "      <td>15</td>\n",
       "      <td>8</td>\n",
       "      <td>16</td>\n",
       "      <td>62</td>\n",
       "      <td>98</td>\n",
       "      <td>...</td>\n",
       "      <td>5.5</td>\n",
       "      <td>14.0</td>\n",
       "      <td>6.1</td>\n",
       "      <td>21.0</td>\n",
       "      <td>4.9</td>\n",
       "      <td>57.0</td>\n",
       "      <td>5.5</td>\n",
       "      <td>207.0</td>\n",
       "      <td>4.7</td>\n",
       "      <td>105.0</td>\n",
       "    </tr>\n",
       "    <tr>\n",
       "      <th>4</th>\n",
       "      <td>tt0002130</td>\n",
       "      <td>7.0</td>\n",
       "      <td>2237</td>\n",
       "      <td>6.9</td>\n",
       "      <td>7.0</td>\n",
       "      <td>210</td>\n",
       "      <td>225</td>\n",
       "      <td>436</td>\n",
       "      <td>641</td>\n",
       "      <td>344</td>\n",
       "      <td>...</td>\n",
       "      <td>7.3</td>\n",
       "      <td>82.0</td>\n",
       "      <td>7.4</td>\n",
       "      <td>77.0</td>\n",
       "      <td>6.9</td>\n",
       "      <td>139.0</td>\n",
       "      <td>7.0</td>\n",
       "      <td>488.0</td>\n",
       "      <td>7.0</td>\n",
       "      <td>1166.0</td>\n",
       "    </tr>\n",
       "  </tbody>\n",
       "</table>\n",
       "<p>5 rows × 49 columns</p>\n",
       "</div>"
      ],
      "text/plain": [
       "  imdb_title_id  weighted_average_vote  total_votes  mean_vote  median_vote  \\\n",
       "0     tt0000009                    5.9          154        5.9          6.0   \n",
       "1     tt0000574                    6.1          589        6.3          6.0   \n",
       "2     tt0001892                    5.8          188        6.0          6.0   \n",
       "3     tt0002101                    5.2          446        5.3          5.0   \n",
       "4     tt0002130                    7.0         2237        6.9          7.0   \n",
       "\n",
       "   votes_10  votes_9  votes_8  votes_7  votes_6         ...           \\\n",
       "0        12        4       10       43       28         ...            \n",
       "1        57       18       58      137      139         ...            \n",
       "2         6        6       17       44       52         ...            \n",
       "3        15        8       16       62       98         ...            \n",
       "4       210      225      436      641      344         ...            \n",
       "\n",
       "   females_30age_avg_vote  females_30age_votes  females_45age_avg_vote  \\\n",
       "0                     5.7                 13.0                     4.5   \n",
       "1                     6.2                 23.0                     6.6   \n",
       "2                     5.8                  4.0                     6.8   \n",
       "3                     5.5                 14.0                     6.1   \n",
       "4                     7.3                 82.0                     7.4   \n",
       "\n",
       "   females_45age_votes  top1000_voters_rating  top1000_voters_votes  \\\n",
       "0                  4.0                    5.7                  34.0   \n",
       "1                 14.0                    6.4                  66.0   \n",
       "2                  7.0                    5.4                  32.0   \n",
       "3                 21.0                    4.9                  57.0   \n",
       "4                 77.0                    6.9                 139.0   \n",
       "\n",
       "   us_voters_rating  us_voters_votes  non_us_voters_rating  \\\n",
       "0               6.4             51.0                   6.0   \n",
       "1               6.0             96.0                   6.2   \n",
       "2               6.2             31.0                   5.9   \n",
       "3               5.5            207.0                   4.7   \n",
       "4               7.0            488.0                   7.0   \n",
       "\n",
       "   non_us_voters_votes  \n",
       "0                 70.0  \n",
       "1                331.0  \n",
       "2                123.0  \n",
       "3                105.0  \n",
       "4               1166.0  \n",
       "\n",
       "[5 rows x 49 columns]"
      ]
     },
     "execution_count": 2,
     "metadata": {},
     "output_type": "execute_result"
    }
   ],
   "source": [
    "# Load the imdb movie ratings dataset\n",
    "movie_ratings = pd.read_csv(\"IMDb ratings.csv\")\n",
    "movie_ratings.head()"
   ]
  },
  {
   "cell_type": "code",
   "execution_count": 3,
   "metadata": {},
   "outputs": [
    {
     "data": {
      "text/html": [
       "<div>\n",
       "<style scoped>\n",
       "    .dataframe tbody tr th:only-of-type {\n",
       "        vertical-align: middle;\n",
       "    }\n",
       "\n",
       "    .dataframe tbody tr th {\n",
       "        vertical-align: top;\n",
       "    }\n",
       "\n",
       "    .dataframe thead th {\n",
       "        text-align: right;\n",
       "    }\n",
       "</style>\n",
       "<table border=\"1\" class=\"dataframe\">\n",
       "  <thead>\n",
       "    <tr style=\"text-align: right;\">\n",
       "      <th></th>\n",
       "      <th>Movie Ratings</th>\n",
       "    </tr>\n",
       "    <tr>\n",
       "      <th>imdb_title_id</th>\n",
       "      <th></th>\n",
       "    </tr>\n",
       "  </thead>\n",
       "  <tbody>\n",
       "    <tr>\n",
       "      <th>tt0000009</th>\n",
       "      <td>5.9</td>\n",
       "    </tr>\n",
       "    <tr>\n",
       "      <th>tt0000574</th>\n",
       "      <td>6.1</td>\n",
       "    </tr>\n",
       "  </tbody>\n",
       "</table>\n",
       "</div>"
      ],
      "text/plain": [
       "               Movie Ratings\n",
       "imdb_title_id               \n",
       "tt0000009                5.9\n",
       "tt0000574                6.1"
      ]
     },
     "execution_count": 3,
     "metadata": {},
     "output_type": "execute_result"
    }
   ],
   "source": [
    "# Select the imdb title ID and weighted average vote column\n",
    "# movie_rating = movie_ratings.iloc[:, 0:2]\n",
    "# movie_rating.columns = [\"imdb_title_id\", \"Movie Ratings\"]\n",
    "# movie_rating.set_index(\"imdb_title_id\", inplace=True)\n",
    "# movie_rating.head()\n",
    "movie_ratings.drop(movie_ratings.iloc[:, 2:], axis = 1, inplace = True)\n",
    "movie_ratings.columns = [\"imdb_title_id\",\"Movie Ratings\"]\n",
    "movie_ratings.set_index(\"imdb_title_id\", inplace=True)\n",
    "movie_ratings.head(2)"
   ]
  },
  {
   "cell_type": "code",
   "execution_count": 4,
   "metadata": {},
   "outputs": [
    {
     "name": "stderr",
     "output_type": "stream",
     "text": [
      "C:\\Users\\Sarah\\Anaconda3\\lib\\site-packages\\IPython\\core\\interactiveshell.py:3020: DtypeWarning: Columns (3) have mixed types. Specify dtype option on import or set low_memory=False.\n",
      "  interactivity=interactivity, compiler=compiler, result=result)\n"
     ]
    },
    {
     "data": {
      "text/html": [
       "<div>\n",
       "<style scoped>\n",
       "    .dataframe tbody tr th:only-of-type {\n",
       "        vertical-align: middle;\n",
       "    }\n",
       "\n",
       "    .dataframe tbody tr th {\n",
       "        vertical-align: top;\n",
       "    }\n",
       "\n",
       "    .dataframe thead th {\n",
       "        text-align: right;\n",
       "    }\n",
       "</style>\n",
       "<table border=\"1\" class=\"dataframe\">\n",
       "  <thead>\n",
       "    <tr style=\"text-align: right;\">\n",
       "      <th></th>\n",
       "      <th>imdb_title_id</th>\n",
       "      <th>title</th>\n",
       "      <th>original_title</th>\n",
       "      <th>year</th>\n",
       "      <th>date_published</th>\n",
       "      <th>genre</th>\n",
       "      <th>duration</th>\n",
       "      <th>country</th>\n",
       "      <th>language</th>\n",
       "      <th>director</th>\n",
       "      <th>...</th>\n",
       "      <th>actors</th>\n",
       "      <th>description</th>\n",
       "      <th>avg_vote</th>\n",
       "      <th>votes</th>\n",
       "      <th>budget</th>\n",
       "      <th>usa_gross_income</th>\n",
       "      <th>worlwide_gross_income</th>\n",
       "      <th>metascore</th>\n",
       "      <th>reviews_from_users</th>\n",
       "      <th>reviews_from_critics</th>\n",
       "    </tr>\n",
       "  </thead>\n",
       "  <tbody>\n",
       "    <tr>\n",
       "      <th>0</th>\n",
       "      <td>tt0000009</td>\n",
       "      <td>Miss Jerry</td>\n",
       "      <td>Miss Jerry</td>\n",
       "      <td>1894</td>\n",
       "      <td>1894-10-09</td>\n",
       "      <td>Romance</td>\n",
       "      <td>45</td>\n",
       "      <td>USA</td>\n",
       "      <td>None</td>\n",
       "      <td>Alexander Black</td>\n",
       "      <td>...</td>\n",
       "      <td>Blanche Bayliss, William Courtenay, Chauncey D...</td>\n",
       "      <td>The adventures of a female reporter in the 1890s.</td>\n",
       "      <td>5.9</td>\n",
       "      <td>154</td>\n",
       "      <td>NaN</td>\n",
       "      <td>NaN</td>\n",
       "      <td>NaN</td>\n",
       "      <td>NaN</td>\n",
       "      <td>1.0</td>\n",
       "      <td>2.0</td>\n",
       "    </tr>\n",
       "    <tr>\n",
       "      <th>1</th>\n",
       "      <td>tt0000574</td>\n",
       "      <td>The Story of the Kelly Gang</td>\n",
       "      <td>The Story of the Kelly Gang</td>\n",
       "      <td>1906</td>\n",
       "      <td>1906-12-26</td>\n",
       "      <td>Biography, Crime, Drama</td>\n",
       "      <td>70</td>\n",
       "      <td>Australia</td>\n",
       "      <td>None</td>\n",
       "      <td>Charles Tait</td>\n",
       "      <td>...</td>\n",
       "      <td>Elizabeth Tait, John Tait, Norman Campbell, Be...</td>\n",
       "      <td>True story of notorious Australian outlaw Ned ...</td>\n",
       "      <td>6.1</td>\n",
       "      <td>589</td>\n",
       "      <td>$ 2250</td>\n",
       "      <td>NaN</td>\n",
       "      <td>NaN</td>\n",
       "      <td>NaN</td>\n",
       "      <td>7.0</td>\n",
       "      <td>7.0</td>\n",
       "    </tr>\n",
       "  </tbody>\n",
       "</table>\n",
       "<p>2 rows × 22 columns</p>\n",
       "</div>"
      ],
      "text/plain": [
       "  imdb_title_id                        title               original_title  \\\n",
       "0     tt0000009                   Miss Jerry                   Miss Jerry   \n",
       "1     tt0000574  The Story of the Kelly Gang  The Story of the Kelly Gang   \n",
       "\n",
       "   year date_published                    genre  duration    country language  \\\n",
       "0  1894     1894-10-09                  Romance        45        USA     None   \n",
       "1  1906     1906-12-26  Biography, Crime, Drama        70  Australia     None   \n",
       "\n",
       "          director          ...           \\\n",
       "0  Alexander Black          ...            \n",
       "1     Charles Tait          ...            \n",
       "\n",
       "                                              actors  \\\n",
       "0  Blanche Bayliss, William Courtenay, Chauncey D...   \n",
       "1  Elizabeth Tait, John Tait, Norman Campbell, Be...   \n",
       "\n",
       "                                         description avg_vote votes  budget  \\\n",
       "0  The adventures of a female reporter in the 1890s.      5.9   154     NaN   \n",
       "1  True story of notorious Australian outlaw Ned ...      6.1   589  $ 2250   \n",
       "\n",
       "   usa_gross_income worlwide_gross_income metascore reviews_from_users  \\\n",
       "0               NaN                   NaN       NaN                1.0   \n",
       "1               NaN                   NaN       NaN                7.0   \n",
       "\n",
       "   reviews_from_critics  \n",
       "0                   2.0  \n",
       "1                   7.0  \n",
       "\n",
       "[2 rows x 22 columns]"
      ]
     },
     "execution_count": 4,
     "metadata": {},
     "output_type": "execute_result"
    }
   ],
   "source": [
    "# Load the imdb movies dataset\n",
    "movies = pd.read_csv(\"IMDb movies.csv\")\n",
    "movies.head(2)"
   ]
  },
  {
   "cell_type": "code",
   "execution_count": 5,
   "metadata": {},
   "outputs": [
    {
     "data": {
      "text/html": [
       "<div>\n",
       "<style scoped>\n",
       "    .dataframe tbody tr th:only-of-type {\n",
       "        vertical-align: middle;\n",
       "    }\n",
       "\n",
       "    .dataframe tbody tr th {\n",
       "        vertical-align: top;\n",
       "    }\n",
       "\n",
       "    .dataframe thead th {\n",
       "        text-align: right;\n",
       "    }\n",
       "</style>\n",
       "<table border=\"1\" class=\"dataframe\">\n",
       "  <thead>\n",
       "    <tr style=\"text-align: right;\">\n",
       "      <th></th>\n",
       "      <th>title</th>\n",
       "    </tr>\n",
       "    <tr>\n",
       "      <th>imdb_title_id</th>\n",
       "      <th></th>\n",
       "    </tr>\n",
       "  </thead>\n",
       "  <tbody>\n",
       "    <tr>\n",
       "      <th>tt0000009</th>\n",
       "      <td>Miss Jerry</td>\n",
       "    </tr>\n",
       "    <tr>\n",
       "      <th>tt0000574</th>\n",
       "      <td>The Story of the Kelly Gang</td>\n",
       "    </tr>\n",
       "  </tbody>\n",
       "</table>\n",
       "</div>"
      ],
      "text/plain": [
       "                                     title\n",
       "imdb_title_id                             \n",
       "tt0000009                       Miss Jerry\n",
       "tt0000574      The Story of the Kelly Gang"
      ]
     },
     "execution_count": 5,
     "metadata": {},
     "output_type": "execute_result"
    }
   ],
   "source": [
    "# Drop useless columns and keep only imdb ID and title\n",
    "# movie_title = movies.iloc[:, 0:2]\n",
    "# movie_title.set_index(\"imdb_title_id\", inplace=True)\n",
    "# movie_title.head(2)\n",
    "movies.drop(movies.iloc[:, 2:], axis = 1, inplace = True)\n",
    "movies.set_index(\"imdb_title_id\", inplace=True)\n",
    "movies.head(2)"
   ]
  },
  {
   "cell_type": "code",
   "execution_count": 6,
   "metadata": {},
   "outputs": [
    {
     "data": {
      "text/html": [
       "<div>\n",
       "<style scoped>\n",
       "    .dataframe tbody tr th:only-of-type {\n",
       "        vertical-align: middle;\n",
       "    }\n",
       "\n",
       "    .dataframe tbody tr th {\n",
       "        vertical-align: top;\n",
       "    }\n",
       "\n",
       "    .dataframe thead th {\n",
       "        text-align: right;\n",
       "    }\n",
       "</style>\n",
       "<table border=\"1\" class=\"dataframe\">\n",
       "  <thead>\n",
       "    <tr style=\"text-align: right;\">\n",
       "      <th></th>\n",
       "      <th>title</th>\n",
       "      <th>Movie Ratings</th>\n",
       "    </tr>\n",
       "    <tr>\n",
       "      <th>imdb_title_id</th>\n",
       "      <th></th>\n",
       "      <th></th>\n",
       "    </tr>\n",
       "  </thead>\n",
       "  <tbody>\n",
       "    <tr>\n",
       "      <th>tt0000009</th>\n",
       "      <td>Miss Jerry</td>\n",
       "      <td>5.9</td>\n",
       "    </tr>\n",
       "    <tr>\n",
       "      <th>tt0000574</th>\n",
       "      <td>The Story of the Kelly Gang</td>\n",
       "      <td>6.1</td>\n",
       "    </tr>\n",
       "    <tr>\n",
       "      <th>tt0001892</th>\n",
       "      <td>Den sorte drøm</td>\n",
       "      <td>5.8</td>\n",
       "    </tr>\n",
       "    <tr>\n",
       "      <th>tt0002101</th>\n",
       "      <td>Cleopatra</td>\n",
       "      <td>5.2</td>\n",
       "    </tr>\n",
       "    <tr>\n",
       "      <th>tt0002130</th>\n",
       "      <td>L'Inferno</td>\n",
       "      <td>7.0</td>\n",
       "    </tr>\n",
       "  </tbody>\n",
       "</table>\n",
       "</div>"
      ],
      "text/plain": [
       "                                     title  Movie Ratings\n",
       "imdb_title_id                                            \n",
       "tt0000009                       Miss Jerry            5.9\n",
       "tt0000574      The Story of the Kelly Gang            6.1\n",
       "tt0001892                   Den sorte drøm            5.8\n",
       "tt0002101                        Cleopatra            5.2\n",
       "tt0002130                        L'Inferno            7.0"
      ]
     },
     "execution_count": 6,
     "metadata": {},
     "output_type": "execute_result"
    }
   ],
   "source": [
    "# Merge the two dataframes (automatically merges on index)\n",
    "movie_ratings_df = movies.join(movie_ratings, how=\"inner\")\n",
    "movie_ratings_df.head()"
   ]
  },
  {
   "cell_type": "code",
   "execution_count": 7,
   "metadata": {},
   "outputs": [],
   "source": [
    "# Set title as the index so that it will be easier to merge\n",
    "movie_ratings_df.set_index(\"title\", inplace=True)"
   ]
  },
  {
   "cell_type": "code",
   "execution_count": 8,
   "metadata": {},
   "outputs": [
    {
     "data": {
      "text/html": [
       "<div>\n",
       "<style scoped>\n",
       "    .dataframe tbody tr th:only-of-type {\n",
       "        vertical-align: middle;\n",
       "    }\n",
       "\n",
       "    .dataframe tbody tr th {\n",
       "        vertical-align: top;\n",
       "    }\n",
       "\n",
       "    .dataframe thead th {\n",
       "        text-align: right;\n",
       "    }\n",
       "</style>\n",
       "<table border=\"1\" class=\"dataframe\">\n",
       "  <thead>\n",
       "    <tr style=\"text-align: right;\">\n",
       "      <th></th>\n",
       "      <th>Movie Ratings</th>\n",
       "    </tr>\n",
       "    <tr>\n",
       "      <th>title</th>\n",
       "      <th></th>\n",
       "    </tr>\n",
       "  </thead>\n",
       "  <tbody>\n",
       "    <tr>\n",
       "      <th>Miss Jerry</th>\n",
       "      <td>5.9</td>\n",
       "    </tr>\n",
       "    <tr>\n",
       "      <th>The Story of the Kelly Gang</th>\n",
       "      <td>6.1</td>\n",
       "    </tr>\n",
       "    <tr>\n",
       "      <th>Den sorte drøm</th>\n",
       "      <td>5.8</td>\n",
       "    </tr>\n",
       "    <tr>\n",
       "      <th>Cleopatra</th>\n",
       "      <td>5.2</td>\n",
       "    </tr>\n",
       "    <tr>\n",
       "      <th>L'Inferno</th>\n",
       "      <td>7.0</td>\n",
       "    </tr>\n",
       "  </tbody>\n",
       "</table>\n",
       "</div>"
      ],
      "text/plain": [
       "                             Movie Ratings\n",
       "title                                     \n",
       "Miss Jerry                             5.9\n",
       "The Story of the Kelly Gang            6.1\n",
       "Den sorte drøm                         5.8\n",
       "Cleopatra                              5.2\n",
       "L'Inferno                              7.0"
      ]
     },
     "execution_count": 8,
     "metadata": {},
     "output_type": "execute_result"
    }
   ],
   "source": [
    "# this is the final movie data set with ratings, ready to be merged with Netflix\n",
    "movie_ratings_df.head()"
   ]
  },
  {
   "cell_type": "code",
   "execution_count": 9,
   "metadata": {},
   "outputs": [
    {
     "data": {
      "text/plain": [
       "0"
      ]
     },
     "execution_count": 9,
     "metadata": {},
     "output_type": "execute_result"
    }
   ],
   "source": [
    "# Check for missing values\n",
    "sum(movie_ratings_df['Movie Ratings'].isnull())"
   ]
  },
  {
   "cell_type": "code",
   "execution_count": 10,
   "metadata": {},
   "outputs": [
    {
     "data": {
      "text/plain": [
       "(85855, 1)"
      ]
     },
     "execution_count": 10,
     "metadata": {},
     "output_type": "execute_result"
    }
   ],
   "source": [
    "# Check the shape of our new dataset - it is the same with the previous ones\n",
    "movie_ratings_df.shape"
   ]
  },
  {
   "cell_type": "code",
   "execution_count": 11,
   "metadata": {},
   "outputs": [
    {
     "data": {
      "text/html": [
       "<div>\n",
       "<style scoped>\n",
       "    .dataframe tbody tr th:only-of-type {\n",
       "        vertical-align: middle;\n",
       "    }\n",
       "\n",
       "    .dataframe tbody tr th {\n",
       "        vertical-align: top;\n",
       "    }\n",
       "\n",
       "    .dataframe thead th {\n",
       "        text-align: right;\n",
       "    }\n",
       "</style>\n",
       "<table border=\"1\" class=\"dataframe\">\n",
       "  <thead>\n",
       "    <tr style=\"text-align: right;\">\n",
       "      <th></th>\n",
       "      <th>show_id</th>\n",
       "      <th>type</th>\n",
       "      <th>title</th>\n",
       "      <th>director</th>\n",
       "      <th>cast</th>\n",
       "      <th>country</th>\n",
       "      <th>date_added</th>\n",
       "      <th>release_year</th>\n",
       "      <th>rating</th>\n",
       "      <th>duration</th>\n",
       "      <th>listed_in</th>\n",
       "      <th>description</th>\n",
       "    </tr>\n",
       "  </thead>\n",
       "  <tbody>\n",
       "    <tr>\n",
       "      <th>0</th>\n",
       "      <td>s1</td>\n",
       "      <td>Movie</td>\n",
       "      <td>Dick Johnson Is Dead</td>\n",
       "      <td>Kirsten Johnson</td>\n",
       "      <td>NaN</td>\n",
       "      <td>United States</td>\n",
       "      <td>September 25, 2021</td>\n",
       "      <td>2020</td>\n",
       "      <td>PG-13</td>\n",
       "      <td>90 min</td>\n",
       "      <td>Documentaries</td>\n",
       "      <td>As her father nears the end of his life, filmm...</td>\n",
       "    </tr>\n",
       "    <tr>\n",
       "      <th>1</th>\n",
       "      <td>s2</td>\n",
       "      <td>TV Show</td>\n",
       "      <td>Blood &amp; Water</td>\n",
       "      <td>NaN</td>\n",
       "      <td>Ama Qamata, Khosi Ngema, Gail Mabalane, Thaban...</td>\n",
       "      <td>South Africa</td>\n",
       "      <td>September 24, 2021</td>\n",
       "      <td>2021</td>\n",
       "      <td>TV-MA</td>\n",
       "      <td>2 Seasons</td>\n",
       "      <td>International TV Shows, TV Dramas, TV Mysteries</td>\n",
       "      <td>After crossing paths at a party, a Cape Town t...</td>\n",
       "    </tr>\n",
       "  </tbody>\n",
       "</table>\n",
       "</div>"
      ],
      "text/plain": [
       "  show_id     type                 title         director  \\\n",
       "0      s1    Movie  Dick Johnson Is Dead  Kirsten Johnson   \n",
       "1      s2  TV Show         Blood & Water              NaN   \n",
       "\n",
       "                                                cast        country  \\\n",
       "0                                                NaN  United States   \n",
       "1  Ama Qamata, Khosi Ngema, Gail Mabalane, Thaban...   South Africa   \n",
       "\n",
       "           date_added  release_year rating   duration  \\\n",
       "0  September 25, 2021          2020  PG-13     90 min   \n",
       "1  September 24, 2021          2021  TV-MA  2 Seasons   \n",
       "\n",
       "                                         listed_in  \\\n",
       "0                                    Documentaries   \n",
       "1  International TV Shows, TV Dramas, TV Mysteries   \n",
       "\n",
       "                                         description  \n",
       "0  As her father nears the end of his life, filmm...  \n",
       "1  After crossing paths at a party, a Cape Town t...  "
      ]
     },
     "execution_count": 11,
     "metadata": {},
     "output_type": "execute_result"
    }
   ],
   "source": [
    "# Now that we have our dataframe with movies and their ratings, we can merge it with the Netflix dataset\n",
    "# import the netflix dataset\n",
    "netflix = pd.read_csv(\"netflix_titles.csv\")\n",
    "netflix.head(2)"
   ]
  },
  {
   "cell_type": "code",
   "execution_count": 12,
   "metadata": {},
   "outputs": [
    {
     "data": {
      "text/plain": [
       "(8807, 12)"
      ]
     },
     "execution_count": 12,
     "metadata": {},
     "output_type": "execute_result"
    }
   ],
   "source": [
    "netflix.shape"
   ]
  },
  {
   "cell_type": "code",
   "execution_count": 13,
   "metadata": {},
   "outputs": [
    {
     "data": {
      "text/html": [
       "<div>\n",
       "<style scoped>\n",
       "    .dataframe tbody tr th:only-of-type {\n",
       "        vertical-align: middle;\n",
       "    }\n",
       "\n",
       "    .dataframe tbody tr th {\n",
       "        vertical-align: top;\n",
       "    }\n",
       "\n",
       "    .dataframe thead th {\n",
       "        text-align: right;\n",
       "    }\n",
       "</style>\n",
       "<table border=\"1\" class=\"dataframe\">\n",
       "  <thead>\n",
       "    <tr style=\"text-align: right;\">\n",
       "      <th></th>\n",
       "      <th>show_id</th>\n",
       "      <th>type</th>\n",
       "      <th>title</th>\n",
       "      <th>director</th>\n",
       "      <th>cast</th>\n",
       "      <th>country</th>\n",
       "      <th>date_added</th>\n",
       "      <th>release_year</th>\n",
       "      <th>rating</th>\n",
       "      <th>duration</th>\n",
       "      <th>listed_in</th>\n",
       "      <th>description</th>\n",
       "    </tr>\n",
       "  </thead>\n",
       "  <tbody>\n",
       "    <tr>\n",
       "      <th>0</th>\n",
       "      <td>s1</td>\n",
       "      <td>Movie</td>\n",
       "      <td>Dick Johnson Is Dead</td>\n",
       "      <td>Kirsten Johnson</td>\n",
       "      <td>NaN</td>\n",
       "      <td>United States</td>\n",
       "      <td>September 25, 2021</td>\n",
       "      <td>2020</td>\n",
       "      <td>PG-13</td>\n",
       "      <td>90 min</td>\n",
       "      <td>Documentaries</td>\n",
       "      <td>As her father nears the end of his life, filmm...</td>\n",
       "    </tr>\n",
       "    <tr>\n",
       "      <th>6</th>\n",
       "      <td>s7</td>\n",
       "      <td>Movie</td>\n",
       "      <td>My Little Pony: A New Generation</td>\n",
       "      <td>Robert Cullen, José Luis Ucha</td>\n",
       "      <td>Vanessa Hudgens, Kimiko Glenn, James Marsden, ...</td>\n",
       "      <td>NaN</td>\n",
       "      <td>September 24, 2021</td>\n",
       "      <td>2021</td>\n",
       "      <td>PG</td>\n",
       "      <td>91 min</td>\n",
       "      <td>Children &amp; Family Movies</td>\n",
       "      <td>Equestria's divided. But a bright-eyed hero be...</td>\n",
       "    </tr>\n",
       "  </tbody>\n",
       "</table>\n",
       "</div>"
      ],
      "text/plain": [
       "  show_id   type                             title  \\\n",
       "0      s1  Movie              Dick Johnson Is Dead   \n",
       "6      s7  Movie  My Little Pony: A New Generation   \n",
       "\n",
       "                        director  \\\n",
       "0                Kirsten Johnson   \n",
       "6  Robert Cullen, José Luis Ucha   \n",
       "\n",
       "                                                cast        country  \\\n",
       "0                                                NaN  United States   \n",
       "6  Vanessa Hudgens, Kimiko Glenn, James Marsden, ...            NaN   \n",
       "\n",
       "           date_added  release_year rating duration                 listed_in  \\\n",
       "0  September 25, 2021          2020  PG-13   90 min             Documentaries   \n",
       "6  September 24, 2021          2021     PG   91 min  Children & Family Movies   \n",
       "\n",
       "                                         description  \n",
       "0  As her father nears the end of his life, filmm...  \n",
       "6  Equestria's divided. But a bright-eyed hero be...  "
      ]
     },
     "execution_count": 13,
     "metadata": {},
     "output_type": "execute_result"
    }
   ],
   "source": [
    "# Next we will create a dataframe that contains only the movies from Netflix; the rows will reduce from 8807 to 6131\n",
    "netflix_movies = netflix[netflix['type']=='Movie']\n",
    "netflix_movies.head(2)"
   ]
  },
  {
   "cell_type": "code",
   "execution_count": 14,
   "metadata": {},
   "outputs": [
    {
     "data": {
      "text/plain": [
       "(6131, 12)"
      ]
     },
     "execution_count": 14,
     "metadata": {},
     "output_type": "execute_result"
    }
   ],
   "source": [
    "netflix_movies.shape"
   ]
  },
  {
   "cell_type": "code",
   "execution_count": 15,
   "metadata": {},
   "outputs": [],
   "source": [
    "#netflix_movies[netflix_movies['title'].str.startswith(\"The Kissing Booth\")]\n",
    "# for i in range (len(netflix_movies)):\n",
    "#     for j in range (len(movie_ratings_df)):     "
   ]
  },
  {
   "cell_type": "code",
   "execution_count": 16,
   "metadata": {},
   "outputs": [
    {
     "data": {
      "text/html": [
       "<div>\n",
       "<style scoped>\n",
       "    .dataframe tbody tr th:only-of-type {\n",
       "        vertical-align: middle;\n",
       "    }\n",
       "\n",
       "    .dataframe tbody tr th {\n",
       "        vertical-align: top;\n",
       "    }\n",
       "\n",
       "    .dataframe thead th {\n",
       "        text-align: right;\n",
       "    }\n",
       "</style>\n",
       "<table border=\"1\" class=\"dataframe\">\n",
       "  <thead>\n",
       "    <tr style=\"text-align: right;\">\n",
       "      <th></th>\n",
       "      <th>show_id</th>\n",
       "      <th>type</th>\n",
       "      <th>director</th>\n",
       "      <th>cast</th>\n",
       "      <th>country</th>\n",
       "      <th>date_added</th>\n",
       "      <th>release_year</th>\n",
       "      <th>rating</th>\n",
       "      <th>duration</th>\n",
       "      <th>listed_in</th>\n",
       "      <th>description</th>\n",
       "    </tr>\n",
       "    <tr>\n",
       "      <th>title</th>\n",
       "      <th></th>\n",
       "      <th></th>\n",
       "      <th></th>\n",
       "      <th></th>\n",
       "      <th></th>\n",
       "      <th></th>\n",
       "      <th></th>\n",
       "      <th></th>\n",
       "      <th></th>\n",
       "      <th></th>\n",
       "      <th></th>\n",
       "    </tr>\n",
       "  </thead>\n",
       "  <tbody>\n",
       "    <tr>\n",
       "      <th>Dick Johnson Is Dead</th>\n",
       "      <td>s1</td>\n",
       "      <td>Movie</td>\n",
       "      <td>Kirsten Johnson</td>\n",
       "      <td>NaN</td>\n",
       "      <td>United States</td>\n",
       "      <td>September 25, 2021</td>\n",
       "      <td>2020</td>\n",
       "      <td>PG-13</td>\n",
       "      <td>90 min</td>\n",
       "      <td>Documentaries</td>\n",
       "      <td>As her father nears the end of his life, filmm...</td>\n",
       "    </tr>\n",
       "    <tr>\n",
       "      <th>My Little Pony: A New Generation</th>\n",
       "      <td>s7</td>\n",
       "      <td>Movie</td>\n",
       "      <td>Robert Cullen, José Luis Ucha</td>\n",
       "      <td>Vanessa Hudgens, Kimiko Glenn, James Marsden, ...</td>\n",
       "      <td>NaN</td>\n",
       "      <td>September 24, 2021</td>\n",
       "      <td>2021</td>\n",
       "      <td>PG</td>\n",
       "      <td>91 min</td>\n",
       "      <td>Children &amp; Family Movies</td>\n",
       "      <td>Equestria's divided. But a bright-eyed hero be...</td>\n",
       "    </tr>\n",
       "  </tbody>\n",
       "</table>\n",
       "</div>"
      ],
      "text/plain": [
       "                                 show_id   type  \\\n",
       "title                                             \n",
       "Dick Johnson Is Dead                  s1  Movie   \n",
       "My Little Pony: A New Generation      s7  Movie   \n",
       "\n",
       "                                                       director  \\\n",
       "title                                                             \n",
       "Dick Johnson Is Dead                            Kirsten Johnson   \n",
       "My Little Pony: A New Generation  Robert Cullen, José Luis Ucha   \n",
       "\n",
       "                                                                               cast  \\\n",
       "title                                                                                 \n",
       "Dick Johnson Is Dead                                                            NaN   \n",
       "My Little Pony: A New Generation  Vanessa Hudgens, Kimiko Glenn, James Marsden, ...   \n",
       "\n",
       "                                        country          date_added  \\\n",
       "title                                                                 \n",
       "Dick Johnson Is Dead              United States  September 25, 2021   \n",
       "My Little Pony: A New Generation            NaN  September 24, 2021   \n",
       "\n",
       "                                  release_year rating duration  \\\n",
       "title                                                            \n",
       "Dick Johnson Is Dead                      2020  PG-13   90 min   \n",
       "My Little Pony: A New Generation          2021     PG   91 min   \n",
       "\n",
       "                                                 listed_in  \\\n",
       "title                                                        \n",
       "Dick Johnson Is Dead                         Documentaries   \n",
       "My Little Pony: A New Generation  Children & Family Movies   \n",
       "\n",
       "                                                                        description  \n",
       "title                                                                                \n",
       "Dick Johnson Is Dead              As her father nears the end of his life, filmm...  \n",
       "My Little Pony: A New Generation  Equestria's divided. But a bright-eyed hero be...  "
      ]
     },
     "execution_count": 16,
     "metadata": {},
     "output_type": "execute_result"
    }
   ],
   "source": [
    "netflix_movies.set_index(\"title\", inplace=True)\n",
    "netflix_movies.head(2)"
   ]
  },
  {
   "cell_type": "code",
   "execution_count": 17,
   "metadata": {},
   "outputs": [],
   "source": [
    "# key = movie_ratings_df['title'].str.extract('^(' + '|'.join(netflix_movies['title']) + ')')\n",
    "#df3 = df1.merge(df2.assign(key=key), left_on='A', right_on='key').drop('key', 1)"
   ]
  },
  {
   "cell_type": "code",
   "execution_count": 18,
   "metadata": {},
   "outputs": [
    {
     "data": {
      "text/html": [
       "<div>\n",
       "<style scoped>\n",
       "    .dataframe tbody tr th:only-of-type {\n",
       "        vertical-align: middle;\n",
       "    }\n",
       "\n",
       "    .dataframe tbody tr th {\n",
       "        vertical-align: top;\n",
       "    }\n",
       "\n",
       "    .dataframe thead th {\n",
       "        text-align: right;\n",
       "    }\n",
       "</style>\n",
       "<table border=\"1\" class=\"dataframe\">\n",
       "  <thead>\n",
       "    <tr style=\"text-align: right;\">\n",
       "      <th></th>\n",
       "      <th>show_id</th>\n",
       "      <th>type</th>\n",
       "      <th>director</th>\n",
       "      <th>cast</th>\n",
       "      <th>country</th>\n",
       "      <th>date_added</th>\n",
       "      <th>release_year</th>\n",
       "      <th>rating</th>\n",
       "      <th>duration</th>\n",
       "      <th>listed_in</th>\n",
       "      <th>description</th>\n",
       "      <th>Movie Ratings</th>\n",
       "    </tr>\n",
       "    <tr>\n",
       "      <th>title</th>\n",
       "      <th></th>\n",
       "      <th></th>\n",
       "      <th></th>\n",
       "      <th></th>\n",
       "      <th></th>\n",
       "      <th></th>\n",
       "      <th></th>\n",
       "      <th></th>\n",
       "      <th></th>\n",
       "      <th></th>\n",
       "      <th></th>\n",
       "      <th></th>\n",
       "    </tr>\n",
       "  </thead>\n",
       "  <tbody>\n",
       "    <tr>\n",
       "      <th>Sankofa</th>\n",
       "      <td>s8</td>\n",
       "      <td>Movie</td>\n",
       "      <td>Haile Gerima</td>\n",
       "      <td>Kofi Ghanaba, Oyafunmike Ogunlano, Alexandra D...</td>\n",
       "      <td>United States, Ghana, Burkina Faso, United Kin...</td>\n",
       "      <td>September 24, 2021</td>\n",
       "      <td>1993</td>\n",
       "      <td>TV-MA</td>\n",
       "      <td>125 min</td>\n",
       "      <td>Dramas, Independent Movies, International Movies</td>\n",
       "      <td>On a photo shoot in Ghana, an American model s...</td>\n",
       "      <td>6.9</td>\n",
       "    </tr>\n",
       "    <tr>\n",
       "      <th>Jeans</th>\n",
       "      <td>s25</td>\n",
       "      <td>Movie</td>\n",
       "      <td>S. Shankar</td>\n",
       "      <td>Prashanth, Aishwarya Rai Bachchan, Sri Lakshmi...</td>\n",
       "      <td>India</td>\n",
       "      <td>September 21, 2021</td>\n",
       "      <td>1998</td>\n",
       "      <td>TV-14</td>\n",
       "      <td>166 min</td>\n",
       "      <td>Comedies, International Movies, Romantic Movies</td>\n",
       "      <td>When the father of the man she loves insists t...</td>\n",
       "      <td>6.5</td>\n",
       "    </tr>\n",
       "    <tr>\n",
       "      <th>Paranoia</th>\n",
       "      <td>s30</td>\n",
       "      <td>Movie</td>\n",
       "      <td>Robert Luketic</td>\n",
       "      <td>Liam Hemsworth, Gary Oldman, Amber Heard, Harr...</td>\n",
       "      <td>United States, India, France</td>\n",
       "      <td>September 19, 2021</td>\n",
       "      <td>2013</td>\n",
       "      <td>PG-13</td>\n",
       "      <td>106 min</td>\n",
       "      <td>Thrillers</td>\n",
       "      <td>Blackmailed by his company's CEO, a low-level ...</td>\n",
       "      <td>6.3</td>\n",
       "    </tr>\n",
       "    <tr>\n",
       "      <th>Paranoia</th>\n",
       "      <td>s30</td>\n",
       "      <td>Movie</td>\n",
       "      <td>Robert Luketic</td>\n",
       "      <td>Liam Hemsworth, Gary Oldman, Amber Heard, Harr...</td>\n",
       "      <td>United States, India, France</td>\n",
       "      <td>September 19, 2021</td>\n",
       "      <td>2013</td>\n",
       "      <td>PG-13</td>\n",
       "      <td>106 min</td>\n",
       "      <td>Thrillers</td>\n",
       "      <td>Blackmailed by his company's CEO, a low-level ...</td>\n",
       "      <td>4.9</td>\n",
       "    </tr>\n",
       "    <tr>\n",
       "      <th>Training Day</th>\n",
       "      <td>s49</td>\n",
       "      <td>Movie</td>\n",
       "      <td>Antoine Fuqua</td>\n",
       "      <td>Denzel Washington, Ethan Hawke, Scott Glenn, T...</td>\n",
       "      <td>United States</td>\n",
       "      <td>September 16, 2021</td>\n",
       "      <td>2001</td>\n",
       "      <td>R</td>\n",
       "      <td>122 min</td>\n",
       "      <td>Dramas, Thrillers</td>\n",
       "      <td>A rookie cop with one day to prove himself to ...</td>\n",
       "      <td>7.7</td>\n",
       "    </tr>\n",
       "  </tbody>\n",
       "</table>\n",
       "</div>"
      ],
      "text/plain": [
       "             show_id   type        director  \\\n",
       "title                                         \n",
       "Sankofa           s8  Movie    Haile Gerima   \n",
       "Jeans            s25  Movie      S. Shankar   \n",
       "Paranoia         s30  Movie  Robert Luketic   \n",
       "Paranoia         s30  Movie  Robert Luketic   \n",
       "Training Day     s49  Movie   Antoine Fuqua   \n",
       "\n",
       "                                                           cast  \\\n",
       "title                                                             \n",
       "Sankofa       Kofi Ghanaba, Oyafunmike Ogunlano, Alexandra D...   \n",
       "Jeans         Prashanth, Aishwarya Rai Bachchan, Sri Lakshmi...   \n",
       "Paranoia      Liam Hemsworth, Gary Oldman, Amber Heard, Harr...   \n",
       "Paranoia      Liam Hemsworth, Gary Oldman, Amber Heard, Harr...   \n",
       "Training Day  Denzel Washington, Ethan Hawke, Scott Glenn, T...   \n",
       "\n",
       "                                                        country  \\\n",
       "title                                                             \n",
       "Sankofa       United States, Ghana, Burkina Faso, United Kin...   \n",
       "Jeans                                                     India   \n",
       "Paranoia                           United States, India, France   \n",
       "Paranoia                           United States, India, France   \n",
       "Training Day                                      United States   \n",
       "\n",
       "                      date_added  release_year rating duration  \\\n",
       "title                                                            \n",
       "Sankofa       September 24, 2021          1993  TV-MA  125 min   \n",
       "Jeans         September 21, 2021          1998  TV-14  166 min   \n",
       "Paranoia      September 19, 2021          2013  PG-13  106 min   \n",
       "Paranoia      September 19, 2021          2013  PG-13  106 min   \n",
       "Training Day  September 16, 2021          2001      R  122 min   \n",
       "\n",
       "                                                     listed_in  \\\n",
       "title                                                            \n",
       "Sankofa       Dramas, Independent Movies, International Movies   \n",
       "Jeans          Comedies, International Movies, Romantic Movies   \n",
       "Paranoia                                             Thrillers   \n",
       "Paranoia                                             Thrillers   \n",
       "Training Day                                 Dramas, Thrillers   \n",
       "\n",
       "                                                    description  Movie Ratings  \n",
       "title                                                                           \n",
       "Sankofa       On a photo shoot in Ghana, an American model s...            6.9  \n",
       "Jeans         When the father of the man she loves insists t...            6.5  \n",
       "Paranoia      Blackmailed by his company's CEO, a low-level ...            6.3  \n",
       "Paranoia      Blackmailed by his company's CEO, a low-level ...            4.9  \n",
       "Training Day  A rookie cop with one day to prove himself to ...            7.7  "
      ]
     },
     "execution_count": 18,
     "metadata": {},
     "output_type": "execute_result"
    }
   ],
   "source": [
    "# Merge the netflix movies with the other movies dataset to get the ratings\n",
    "# netflix_ratings = netflix_movies.join(movie_ratings_df, how=\"left\")\n",
    "netflix_ratings = pd.merge(left = netflix_movies, right = movie_ratings_df, how = 'inner', on = 'title')\n",
    "netflix_ratings.head()"
   ]
  },
  {
   "cell_type": "code",
   "execution_count": 19,
   "metadata": {},
   "outputs": [
    {
     "data": {
      "text/plain": [
       "(2592, 12)"
      ]
     },
     "execution_count": 19,
     "metadata": {},
     "output_type": "execute_result"
    }
   ],
   "source": [
    "# We can see after performoing an inner join, our dataset is reduced to 2592 rows \n",
    "# because not all movies in netflix were in the imdb dataset\n",
    "# We see not all movie ratings got transferred\n",
    "netflix_ratings.shape"
   ]
  },
  {
   "cell_type": "code",
   "execution_count": 20,
   "metadata": {},
   "outputs": [
    {
     "data": {
      "text/plain": [
       "0"
      ]
     },
     "execution_count": 20,
     "metadata": {},
     "output_type": "execute_result"
    }
   ],
   "source": [
    "# Check the total missing values for the column in movie_ratings.  \n",
    "sum(netflix_ratings['Movie Ratings'].isnull())"
   ]
  },
  {
   "cell_type": "code",
   "execution_count": 21,
   "metadata": {},
   "outputs": [
    {
     "data": {
      "text/plain": [
       "Index(['Sankofa', 'Jeans', 'Paranoia', 'Training Day', 'King of Boys', 'Prey',\n",
       "       'Paradise Hills', 'Angamaly Diaries', 'Worth', 'Anjaam',\n",
       "       ...\n",
       "       'Yes or No 2.5', 'You Can Tutu', 'You Changed My Life', 'Young Adult',\n",
       "       'Zed Plus', 'Zenda', 'Zinzana', 'Zodiac', 'Zoom', 'Zubaan'],\n",
       "      dtype='object', name='title', length=2143)"
      ]
     },
     "execution_count": 21,
     "metadata": {},
     "output_type": "execute_result"
    }
   ],
   "source": [
    "# Check for duplicate columns. We see the lenght is 2143 for unique index, whereas above is 2592 which indicates \n",
    "# some movies are repeated and we can see this above as well where Paranoia is mentioned twice\n",
    "netflix_ratings.index.unique()"
   ]
  },
  {
   "cell_type": "code",
   "execution_count": 22,
   "metadata": {},
   "outputs": [],
   "source": [
    "netflix_ratings.reset_index(inplace=True)"
   ]
  },
  {
   "cell_type": "code",
   "execution_count": 23,
   "metadata": {},
   "outputs": [],
   "source": [
    "# netflix_ratings = netflix_ratings[netflix_ratings.index.unique()]\n",
    "# Keeps the first title it encounters and sets the rest as duplicates\n",
    "netflix_ratings.drop_duplicates(subset = \"title\",\n",
    "                     keep = 'first', inplace = True)"
   ]
  },
  {
   "cell_type": "code",
   "execution_count": 24,
   "metadata": {},
   "outputs": [
    {
     "data": {
      "text/plain": [
       "(2143, 13)"
      ]
     },
     "execution_count": 24,
     "metadata": {},
     "output_type": "execute_result"
    }
   ],
   "source": [
    "# Our final dataset without duplicates have rows of 2143\n",
    "netflix_ratings.shape"
   ]
  },
  {
   "cell_type": "code",
   "execution_count": 25,
   "metadata": {},
   "outputs": [],
   "source": [
    "# reset the index as title\n",
    "netflix_ratings.set_index(\"title\", inplace=True)"
   ]
  },
  {
   "cell_type": "code",
   "execution_count": 26,
   "metadata": {},
   "outputs": [
    {
     "data": {
      "text/html": [
       "<div>\n",
       "<style scoped>\n",
       "    .dataframe tbody tr th:only-of-type {\n",
       "        vertical-align: middle;\n",
       "    }\n",
       "\n",
       "    .dataframe tbody tr th {\n",
       "        vertical-align: top;\n",
       "    }\n",
       "\n",
       "    .dataframe thead th {\n",
       "        text-align: right;\n",
       "    }\n",
       "</style>\n",
       "<table border=\"1\" class=\"dataframe\">\n",
       "  <thead>\n",
       "    <tr style=\"text-align: right;\">\n",
       "      <th></th>\n",
       "      <th>show_id</th>\n",
       "      <th>type</th>\n",
       "      <th>director</th>\n",
       "      <th>cast</th>\n",
       "      <th>country</th>\n",
       "      <th>date_added</th>\n",
       "      <th>release_year</th>\n",
       "      <th>rating</th>\n",
       "      <th>duration</th>\n",
       "      <th>listed_in</th>\n",
       "      <th>description</th>\n",
       "      <th>Movie Ratings</th>\n",
       "    </tr>\n",
       "    <tr>\n",
       "      <th>title</th>\n",
       "      <th></th>\n",
       "      <th></th>\n",
       "      <th></th>\n",
       "      <th></th>\n",
       "      <th></th>\n",
       "      <th></th>\n",
       "      <th></th>\n",
       "      <th></th>\n",
       "      <th></th>\n",
       "      <th></th>\n",
       "      <th></th>\n",
       "      <th></th>\n",
       "    </tr>\n",
       "  </thead>\n",
       "  <tbody>\n",
       "    <tr>\n",
       "      <th>Sankofa</th>\n",
       "      <td>s8</td>\n",
       "      <td>Movie</td>\n",
       "      <td>Haile Gerima</td>\n",
       "      <td>Kofi Ghanaba, Oyafunmike Ogunlano, Alexandra D...</td>\n",
       "      <td>United States, Ghana, Burkina Faso, United Kin...</td>\n",
       "      <td>September 24, 2021</td>\n",
       "      <td>1993</td>\n",
       "      <td>TV-MA</td>\n",
       "      <td>125 min</td>\n",
       "      <td>Dramas, Independent Movies, International Movies</td>\n",
       "      <td>On a photo shoot in Ghana, an American model s...</td>\n",
       "      <td>6.9</td>\n",
       "    </tr>\n",
       "    <tr>\n",
       "      <th>Jeans</th>\n",
       "      <td>s25</td>\n",
       "      <td>Movie</td>\n",
       "      <td>S. Shankar</td>\n",
       "      <td>Prashanth, Aishwarya Rai Bachchan, Sri Lakshmi...</td>\n",
       "      <td>India</td>\n",
       "      <td>September 21, 2021</td>\n",
       "      <td>1998</td>\n",
       "      <td>TV-14</td>\n",
       "      <td>166 min</td>\n",
       "      <td>Comedies, International Movies, Romantic Movies</td>\n",
       "      <td>When the father of the man she loves insists t...</td>\n",
       "      <td>6.5</td>\n",
       "    </tr>\n",
       "  </tbody>\n",
       "</table>\n",
       "</div>"
      ],
      "text/plain": [
       "        show_id   type      director  \\\n",
       "title                                  \n",
       "Sankofa      s8  Movie  Haile Gerima   \n",
       "Jeans       s25  Movie    S. Shankar   \n",
       "\n",
       "                                                      cast  \\\n",
       "title                                                        \n",
       "Sankofa  Kofi Ghanaba, Oyafunmike Ogunlano, Alexandra D...   \n",
       "Jeans    Prashanth, Aishwarya Rai Bachchan, Sri Lakshmi...   \n",
       "\n",
       "                                                   country  \\\n",
       "title                                                        \n",
       "Sankofa  United States, Ghana, Burkina Faso, United Kin...   \n",
       "Jeans                                                India   \n",
       "\n",
       "                 date_added  release_year rating duration  \\\n",
       "title                                                       \n",
       "Sankofa  September 24, 2021          1993  TV-MA  125 min   \n",
       "Jeans    September 21, 2021          1998  TV-14  166 min   \n",
       "\n",
       "                                                listed_in  \\\n",
       "title                                                       \n",
       "Sankofa  Dramas, Independent Movies, International Movies   \n",
       "Jeans     Comedies, International Movies, Romantic Movies   \n",
       "\n",
       "                                               description  Movie Ratings  \n",
       "title                                                                      \n",
       "Sankofa  On a photo shoot in Ghana, an American model s...            6.9  \n",
       "Jeans    When the father of the man she loves insists t...            6.5  "
      ]
     },
     "execution_count": 26,
     "metadata": {},
     "output_type": "execute_result"
    }
   ],
   "source": [
    "netflix_ratings.head(2)"
   ]
  },
  {
   "cell_type": "code",
   "execution_count": 27,
   "metadata": {},
   "outputs": [
    {
     "data": {
      "text/plain": [
       "show_id           0\n",
       "type              0\n",
       "director         12\n",
       "cast             31\n",
       "country          32\n",
       "date_added        0\n",
       "release_year      0\n",
       "rating            1\n",
       "duration          0\n",
       "listed_in         0\n",
       "description       0\n",
       "Movie Ratings     0\n",
       "dtype: int64"
      ]
     },
     "execution_count": 27,
     "metadata": {},
     "output_type": "execute_result"
    }
   ],
   "source": [
    "# sum(netflix_ratings['Movie Ratings'].isnull())\n",
    "# To see whcih columns have null values. For these, we can simply insert no information avalaible\n",
    "# For the rating column, since there is only one missing value, we can get rid of this row\n",
    "netflix_ratings.T.apply(lambda x: x.isnull().sum(), axis = 1)"
   ]
  },
  {
   "cell_type": "code",
   "execution_count": 28,
   "metadata": {},
   "outputs": [],
   "source": [
    "# Drop the missing row for rating and use fillna for the rest of the columns\n",
    "netflix_ratings.director.fillna(\"No Director\", inplace=True)\n",
    "netflix_ratings.cast.fillna(\"No Cast Info\", inplace=True)\n",
    "netflix_ratings.country.fillna(\"No Information\", inplace=True)\n",
    "netflix_ratings.dropna(subset=[\"rating\"], inplace=True)"
   ]
  },
  {
   "cell_type": "code",
   "execution_count": 29,
   "metadata": {},
   "outputs": [
    {
     "data": {
      "text/plain": [
       "show_id          0\n",
       "type             0\n",
       "director         0\n",
       "cast             0\n",
       "country          0\n",
       "date_added       0\n",
       "release_year     0\n",
       "rating           0\n",
       "duration         0\n",
       "listed_in        0\n",
       "description      0\n",
       "Movie Ratings    0\n",
       "dtype: int64"
      ]
     },
     "execution_count": 29,
     "metadata": {},
     "output_type": "execute_result"
    }
   ],
   "source": [
    "# Check to confirm no missing rows\n",
    "netflix_ratings.T.apply(lambda x: x.isnull().sum(), axis = 1)"
   ]
  },
  {
   "cell_type": "code",
   "execution_count": 30,
   "metadata": {},
   "outputs": [],
   "source": [
    "# Drop useless columns: show_id, type, description\n",
    "netflix_ratings.drop(netflix_ratings.loc[:,(\"show_id\", \"type\", \"date_added\", \"description\")], axis = 1, inplace = True)"
   ]
  },
  {
   "cell_type": "code",
   "execution_count": 31,
   "metadata": {},
   "outputs": [
    {
     "data": {
      "text/html": [
       "<div>\n",
       "<style scoped>\n",
       "    .dataframe tbody tr th:only-of-type {\n",
       "        vertical-align: middle;\n",
       "    }\n",
       "\n",
       "    .dataframe tbody tr th {\n",
       "        vertical-align: top;\n",
       "    }\n",
       "\n",
       "    .dataframe thead th {\n",
       "        text-align: right;\n",
       "    }\n",
       "</style>\n",
       "<table border=\"1\" class=\"dataframe\">\n",
       "  <thead>\n",
       "    <tr style=\"text-align: right;\">\n",
       "      <th></th>\n",
       "      <th>director</th>\n",
       "      <th>cast</th>\n",
       "      <th>country</th>\n",
       "      <th>release_year</th>\n",
       "      <th>rating</th>\n",
       "      <th>duration</th>\n",
       "      <th>listed_in</th>\n",
       "      <th>Movie Ratings</th>\n",
       "    </tr>\n",
       "    <tr>\n",
       "      <th>title</th>\n",
       "      <th></th>\n",
       "      <th></th>\n",
       "      <th></th>\n",
       "      <th></th>\n",
       "      <th></th>\n",
       "      <th></th>\n",
       "      <th></th>\n",
       "      <th></th>\n",
       "    </tr>\n",
       "  </thead>\n",
       "  <tbody>\n",
       "    <tr>\n",
       "      <th>Sankofa</th>\n",
       "      <td>Haile Gerima</td>\n",
       "      <td>Kofi Ghanaba, Oyafunmike Ogunlano, Alexandra D...</td>\n",
       "      <td>United States, Ghana, Burkina Faso, United Kin...</td>\n",
       "      <td>1993</td>\n",
       "      <td>TV-MA</td>\n",
       "      <td>125 min</td>\n",
       "      <td>Dramas, Independent Movies, International Movies</td>\n",
       "      <td>6.9</td>\n",
       "    </tr>\n",
       "    <tr>\n",
       "      <th>Jeans</th>\n",
       "      <td>S. Shankar</td>\n",
       "      <td>Prashanth, Aishwarya Rai Bachchan, Sri Lakshmi...</td>\n",
       "      <td>India</td>\n",
       "      <td>1998</td>\n",
       "      <td>TV-14</td>\n",
       "      <td>166 min</td>\n",
       "      <td>Comedies, International Movies, Romantic Movies</td>\n",
       "      <td>6.5</td>\n",
       "    </tr>\n",
       "    <tr>\n",
       "      <th>Paranoia</th>\n",
       "      <td>Robert Luketic</td>\n",
       "      <td>Liam Hemsworth, Gary Oldman, Amber Heard, Harr...</td>\n",
       "      <td>United States, India, France</td>\n",
       "      <td>2013</td>\n",
       "      <td>PG-13</td>\n",
       "      <td>106 min</td>\n",
       "      <td>Thrillers</td>\n",
       "      <td>6.3</td>\n",
       "    </tr>\n",
       "    <tr>\n",
       "      <th>Training Day</th>\n",
       "      <td>Antoine Fuqua</td>\n",
       "      <td>Denzel Washington, Ethan Hawke, Scott Glenn, T...</td>\n",
       "      <td>United States</td>\n",
       "      <td>2001</td>\n",
       "      <td>R</td>\n",
       "      <td>122 min</td>\n",
       "      <td>Dramas, Thrillers</td>\n",
       "      <td>7.7</td>\n",
       "    </tr>\n",
       "    <tr>\n",
       "      <th>King of Boys</th>\n",
       "      <td>Kemi Adetiba</td>\n",
       "      <td>Sola Sobowale, Adesua Etomi, Remilekun \"Remini...</td>\n",
       "      <td>Nigeria</td>\n",
       "      <td>2018</td>\n",
       "      <td>TV-MA</td>\n",
       "      <td>182 min</td>\n",
       "      <td>Dramas, International Movies</td>\n",
       "      <td>5.8</td>\n",
       "    </tr>\n",
       "  </tbody>\n",
       "</table>\n",
       "</div>"
      ],
      "text/plain": [
       "                    director  \\\n",
       "title                          \n",
       "Sankofa         Haile Gerima   \n",
       "Jeans             S. Shankar   \n",
       "Paranoia      Robert Luketic   \n",
       "Training Day   Antoine Fuqua   \n",
       "King of Boys    Kemi Adetiba   \n",
       "\n",
       "                                                           cast  \\\n",
       "title                                                             \n",
       "Sankofa       Kofi Ghanaba, Oyafunmike Ogunlano, Alexandra D...   \n",
       "Jeans         Prashanth, Aishwarya Rai Bachchan, Sri Lakshmi...   \n",
       "Paranoia      Liam Hemsworth, Gary Oldman, Amber Heard, Harr...   \n",
       "Training Day  Denzel Washington, Ethan Hawke, Scott Glenn, T...   \n",
       "King of Boys  Sola Sobowale, Adesua Etomi, Remilekun \"Remini...   \n",
       "\n",
       "                                                        country  release_year  \\\n",
       "title                                                                           \n",
       "Sankofa       United States, Ghana, Burkina Faso, United Kin...          1993   \n",
       "Jeans                                                     India          1998   \n",
       "Paranoia                           United States, India, France          2013   \n",
       "Training Day                                      United States          2001   \n",
       "King of Boys                                            Nigeria          2018   \n",
       "\n",
       "             rating duration  \\\n",
       "title                          \n",
       "Sankofa       TV-MA  125 min   \n",
       "Jeans         TV-14  166 min   \n",
       "Paranoia      PG-13  106 min   \n",
       "Training Day      R  122 min   \n",
       "King of Boys  TV-MA  182 min   \n",
       "\n",
       "                                                     listed_in  Movie Ratings  \n",
       "title                                                                          \n",
       "Sankofa       Dramas, Independent Movies, International Movies            6.9  \n",
       "Jeans          Comedies, International Movies, Romantic Movies            6.5  \n",
       "Paranoia                                             Thrillers            6.3  \n",
       "Training Day                                 Dramas, Thrillers            7.7  \n",
       "King of Boys                      Dramas, International Movies            5.8  "
      ]
     },
     "execution_count": 31,
     "metadata": {},
     "output_type": "execute_result"
    }
   ],
   "source": [
    "netflix_ratings.head()"
   ]
  },
  {
   "cell_type": "code",
   "execution_count": 32,
   "metadata": {},
   "outputs": [],
   "source": [
    "# Change the cast column to number of popular cast\n",
    "netflix_ratings[\"cast\"] = netflix_ratings[\"cast\"].apply(lambda x: len(x.split(\",\")))\n",
    "\n",
    "# Get the first genre listed in 'listed_in' \n",
    "netflix_ratings[\"listed_in\"] = netflix_ratings[\"listed_in\"].apply(lambda x: x.split(\",\")[0])\n"
   ]
  },
  {
   "cell_type": "code",
   "execution_count": 33,
   "metadata": {},
   "outputs": [
    {
     "data": {
      "text/html": [
       "<div>\n",
       "<style scoped>\n",
       "    .dataframe tbody tr th:only-of-type {\n",
       "        vertical-align: middle;\n",
       "    }\n",
       "\n",
       "    .dataframe tbody tr th {\n",
       "        vertical-align: top;\n",
       "    }\n",
       "\n",
       "    .dataframe thead th {\n",
       "        text-align: right;\n",
       "    }\n",
       "</style>\n",
       "<table border=\"1\" class=\"dataframe\">\n",
       "  <thead>\n",
       "    <tr style=\"text-align: right;\">\n",
       "      <th></th>\n",
       "      <th>director</th>\n",
       "      <th>cast</th>\n",
       "      <th>country</th>\n",
       "      <th>release_year</th>\n",
       "      <th>rating</th>\n",
       "      <th>duration</th>\n",
       "      <th>listed_in</th>\n",
       "      <th>Movie Ratings</th>\n",
       "    </tr>\n",
       "    <tr>\n",
       "      <th>title</th>\n",
       "      <th></th>\n",
       "      <th></th>\n",
       "      <th></th>\n",
       "      <th></th>\n",
       "      <th></th>\n",
       "      <th></th>\n",
       "      <th></th>\n",
       "      <th></th>\n",
       "    </tr>\n",
       "  </thead>\n",
       "  <tbody>\n",
       "    <tr>\n",
       "      <th>Sankofa</th>\n",
       "      <td>Haile Gerima</td>\n",
       "      <td>8</td>\n",
       "      <td>United States, Ghana, Burkina Faso, United Kin...</td>\n",
       "      <td>1993</td>\n",
       "      <td>TV-MA</td>\n",
       "      <td>125 min</td>\n",
       "      <td>Dramas</td>\n",
       "      <td>6.9</td>\n",
       "    </tr>\n",
       "    <tr>\n",
       "      <th>Jeans</th>\n",
       "      <td>S. Shankar</td>\n",
       "      <td>4</td>\n",
       "      <td>India</td>\n",
       "      <td>1998</td>\n",
       "      <td>TV-14</td>\n",
       "      <td>166 min</td>\n",
       "      <td>Comedies</td>\n",
       "      <td>6.5</td>\n",
       "    </tr>\n",
       "    <tr>\n",
       "      <th>Paranoia</th>\n",
       "      <td>Robert Luketic</td>\n",
       "      <td>10</td>\n",
       "      <td>United States, India, France</td>\n",
       "      <td>2013</td>\n",
       "      <td>PG-13</td>\n",
       "      <td>106 min</td>\n",
       "      <td>Thrillers</td>\n",
       "      <td>6.3</td>\n",
       "    </tr>\n",
       "    <tr>\n",
       "      <th>Training Day</th>\n",
       "      <td>Antoine Fuqua</td>\n",
       "      <td>11</td>\n",
       "      <td>United States</td>\n",
       "      <td>2001</td>\n",
       "      <td>R</td>\n",
       "      <td>122 min</td>\n",
       "      <td>Dramas</td>\n",
       "      <td>7.7</td>\n",
       "    </tr>\n",
       "    <tr>\n",
       "      <th>King of Boys</th>\n",
       "      <td>Kemi Adetiba</td>\n",
       "      <td>8</td>\n",
       "      <td>Nigeria</td>\n",
       "      <td>2018</td>\n",
       "      <td>TV-MA</td>\n",
       "      <td>182 min</td>\n",
       "      <td>Dramas</td>\n",
       "      <td>5.8</td>\n",
       "    </tr>\n",
       "  </tbody>\n",
       "</table>\n",
       "</div>"
      ],
      "text/plain": [
       "                    director  cast  \\\n",
       "title                                \n",
       "Sankofa         Haile Gerima     8   \n",
       "Jeans             S. Shankar     4   \n",
       "Paranoia      Robert Luketic    10   \n",
       "Training Day   Antoine Fuqua    11   \n",
       "King of Boys    Kemi Adetiba     8   \n",
       "\n",
       "                                                        country  release_year  \\\n",
       "title                                                                           \n",
       "Sankofa       United States, Ghana, Burkina Faso, United Kin...          1993   \n",
       "Jeans                                                     India          1998   \n",
       "Paranoia                           United States, India, France          2013   \n",
       "Training Day                                      United States          2001   \n",
       "King of Boys                                            Nigeria          2018   \n",
       "\n",
       "             rating duration  listed_in  Movie Ratings  \n",
       "title                                                   \n",
       "Sankofa       TV-MA  125 min     Dramas            6.9  \n",
       "Jeans         TV-14  166 min   Comedies            6.5  \n",
       "Paranoia      PG-13  106 min  Thrillers            6.3  \n",
       "Training Day      R  122 min     Dramas            7.7  \n",
       "King of Boys  TV-MA  182 min     Dramas            5.8  "
      ]
     },
     "execution_count": 33,
     "metadata": {},
     "output_type": "execute_result"
    }
   ],
   "source": [
    "netflix_ratings.head()"
   ]
  },
  {
   "cell_type": "code",
   "execution_count": 34,
   "metadata": {},
   "outputs": [],
   "source": [
    "# Rename columns\n",
    "netflix_ratings.rename(columns = {'cast':'Popular_Actors'}, inplace = True)\n",
    "netflix_ratings.rename(columns = {'listed_in':'Genre'}, inplace = True)\n",
    "netflix_ratings.rename(columns = {'director':'Director'}, inplace = True)\n",
    "netflix_ratings.rename(columns = {'country':'Country'}, inplace = True)\n",
    "netflix_ratings.rename(columns = {'release_year':'Release_Year'}, inplace = True)\n",
    "netflix_ratings.rename(columns = {'rating':'TV_Rating'}, inplace = True)\n",
    "netflix_ratings.rename(columns = {'duration':'Duration_Mins'}, inplace = True)"
   ]
  },
  {
   "cell_type": "code",
   "execution_count": 35,
   "metadata": {},
   "outputs": [],
   "source": [
    "netflix_ratings.reset_index(inplace=True)"
   ]
  },
  {
   "cell_type": "code",
   "execution_count": 36,
   "metadata": {},
   "outputs": [],
   "source": [
    "netflix_ratings.rename(columns = {'title':'Title'}, inplace = True)\n",
    "# reset the index as title\n",
    "netflix_ratings.set_index(\"Title\", inplace=True)"
   ]
  },
  {
   "cell_type": "code",
   "execution_count": 37,
   "metadata": {},
   "outputs": [
    {
     "data": {
      "text/html": [
       "<div>\n",
       "<style scoped>\n",
       "    .dataframe tbody tr th:only-of-type {\n",
       "        vertical-align: middle;\n",
       "    }\n",
       "\n",
       "    .dataframe tbody tr th {\n",
       "        vertical-align: top;\n",
       "    }\n",
       "\n",
       "    .dataframe thead th {\n",
       "        text-align: right;\n",
       "    }\n",
       "</style>\n",
       "<table border=\"1\" class=\"dataframe\">\n",
       "  <thead>\n",
       "    <tr style=\"text-align: right;\">\n",
       "      <th></th>\n",
       "      <th>Director</th>\n",
       "      <th>Popular_Actors</th>\n",
       "      <th>Country</th>\n",
       "      <th>Release_Year</th>\n",
       "      <th>TV_Rating</th>\n",
       "      <th>Duration_Mins</th>\n",
       "      <th>Genre</th>\n",
       "      <th>Movie Ratings</th>\n",
       "    </tr>\n",
       "    <tr>\n",
       "      <th>Title</th>\n",
       "      <th></th>\n",
       "      <th></th>\n",
       "      <th></th>\n",
       "      <th></th>\n",
       "      <th></th>\n",
       "      <th></th>\n",
       "      <th></th>\n",
       "      <th></th>\n",
       "    </tr>\n",
       "  </thead>\n",
       "  <tbody>\n",
       "    <tr>\n",
       "      <th>Sankofa</th>\n",
       "      <td>Haile Gerima</td>\n",
       "      <td>8</td>\n",
       "      <td>United States</td>\n",
       "      <td>1993</td>\n",
       "      <td>TV-MA</td>\n",
       "      <td>125</td>\n",
       "      <td>Dramas</td>\n",
       "      <td>6.9</td>\n",
       "    </tr>\n",
       "    <tr>\n",
       "      <th>Jeans</th>\n",
       "      <td>S. Shankar</td>\n",
       "      <td>4</td>\n",
       "      <td>India</td>\n",
       "      <td>1998</td>\n",
       "      <td>TV-14</td>\n",
       "      <td>166</td>\n",
       "      <td>Comedies</td>\n",
       "      <td>6.5</td>\n",
       "    </tr>\n",
       "  </tbody>\n",
       "</table>\n",
       "</div>"
      ],
      "text/plain": [
       "             Director  Popular_Actors        Country  Release_Year TV_Rating  \\\n",
       "Title                                                                          \n",
       "Sankofa  Haile Gerima               8  United States          1993     TV-MA   \n",
       "Jeans      S. Shankar               4          India          1998     TV-14   \n",
       "\n",
       "         Duration_Mins     Genre  Movie Ratings  \n",
       "Title                                            \n",
       "Sankofa            125    Dramas            6.9  \n",
       "Jeans              166  Comedies            6.5  "
      ]
     },
     "execution_count": 37,
     "metadata": {},
     "output_type": "execute_result"
    }
   ],
   "source": [
    "# Select the first country only in a list of countries\n",
    "netflix_ratings[\"Country\"] = netflix_ratings[\"Country\"].apply(lambda x: x.split(\",\")[0])\n",
    "\n",
    "# Get only one director per row (select the first person listed in cases where mre than one)\n",
    "netflix_ratings[\"Director\"] = netflix_ratings[\"Director\"].apply(lambda x: x.split(\",\")[0])\n",
    "\n",
    "# Change the Duration Column to have only the minutes values as integers\n",
    "netflix_ratings[\"Duration_Mins\"] = netflix_ratings[\"Duration_Mins\"].apply(lambda x: int(x.split(\" \")[0]))\n",
    "\n",
    "netflix_ratings.head(2)"
   ]
  },
  {
   "cell_type": "code",
   "execution_count": 38,
   "metadata": {},
   "outputs": [],
   "source": [
    "# Make the Movie Ratings column binary with movies >= 6.5 = popular(1); movies < 6.5 = Not Popular (0)\n",
    "def popular(x):\n",
    "    if x < 6.5:\n",
    "        x =  0\n",
    "    else:\n",
    "        x = 1\n",
    "    return x"
   ]
  },
  {
   "cell_type": "code",
   "execution_count": 39,
   "metadata": {},
   "outputs": [],
   "source": [
    "netflix_ratings[\"Movie Ratings\"] = netflix_ratings[\"Movie Ratings\"].apply(lambda x: popular(x))"
   ]
  },
  {
   "cell_type": "code",
   "execution_count": 40,
   "metadata": {},
   "outputs": [],
   "source": [
    "netflix_ratings.rename(columns = {'Movie Ratings':'Popular'}, inplace = True)"
   ]
  },
  {
   "cell_type": "code",
   "execution_count": 41,
   "metadata": {},
   "outputs": [
    {
     "data": {
      "text/html": [
       "<div>\n",
       "<style scoped>\n",
       "    .dataframe tbody tr th:only-of-type {\n",
       "        vertical-align: middle;\n",
       "    }\n",
       "\n",
       "    .dataframe tbody tr th {\n",
       "        vertical-align: top;\n",
       "    }\n",
       "\n",
       "    .dataframe thead th {\n",
       "        text-align: right;\n",
       "    }\n",
       "</style>\n",
       "<table border=\"1\" class=\"dataframe\">\n",
       "  <thead>\n",
       "    <tr style=\"text-align: right;\">\n",
       "      <th></th>\n",
       "      <th>Director</th>\n",
       "      <th>Popular_Actors</th>\n",
       "      <th>Country</th>\n",
       "      <th>Release_Year</th>\n",
       "      <th>TV_Rating</th>\n",
       "      <th>Duration_Mins</th>\n",
       "      <th>Genre</th>\n",
       "      <th>Popular</th>\n",
       "    </tr>\n",
       "    <tr>\n",
       "      <th>Title</th>\n",
       "      <th></th>\n",
       "      <th></th>\n",
       "      <th></th>\n",
       "      <th></th>\n",
       "      <th></th>\n",
       "      <th></th>\n",
       "      <th></th>\n",
       "      <th></th>\n",
       "    </tr>\n",
       "  </thead>\n",
       "  <tbody>\n",
       "    <tr>\n",
       "      <th>Sankofa</th>\n",
       "      <td>Haile Gerima</td>\n",
       "      <td>8</td>\n",
       "      <td>United States</td>\n",
       "      <td>1993</td>\n",
       "      <td>TV-MA</td>\n",
       "      <td>125</td>\n",
       "      <td>Dramas</td>\n",
       "      <td>1</td>\n",
       "    </tr>\n",
       "    <tr>\n",
       "      <th>Jeans</th>\n",
       "      <td>S. Shankar</td>\n",
       "      <td>4</td>\n",
       "      <td>India</td>\n",
       "      <td>1998</td>\n",
       "      <td>TV-14</td>\n",
       "      <td>166</td>\n",
       "      <td>Comedies</td>\n",
       "      <td>1</td>\n",
       "    </tr>\n",
       "    <tr>\n",
       "      <th>Paranoia</th>\n",
       "      <td>Robert Luketic</td>\n",
       "      <td>10</td>\n",
       "      <td>United States</td>\n",
       "      <td>2013</td>\n",
       "      <td>PG-13</td>\n",
       "      <td>106</td>\n",
       "      <td>Thrillers</td>\n",
       "      <td>0</td>\n",
       "    </tr>\n",
       "    <tr>\n",
       "      <th>Training Day</th>\n",
       "      <td>Antoine Fuqua</td>\n",
       "      <td>11</td>\n",
       "      <td>United States</td>\n",
       "      <td>2001</td>\n",
       "      <td>R</td>\n",
       "      <td>122</td>\n",
       "      <td>Dramas</td>\n",
       "      <td>1</td>\n",
       "    </tr>\n",
       "    <tr>\n",
       "      <th>King of Boys</th>\n",
       "      <td>Kemi Adetiba</td>\n",
       "      <td>8</td>\n",
       "      <td>Nigeria</td>\n",
       "      <td>2018</td>\n",
       "      <td>TV-MA</td>\n",
       "      <td>182</td>\n",
       "      <td>Dramas</td>\n",
       "      <td>0</td>\n",
       "    </tr>\n",
       "  </tbody>\n",
       "</table>\n",
       "</div>"
      ],
      "text/plain": [
       "                    Director  Popular_Actors        Country  Release_Year  \\\n",
       "Title                                                                       \n",
       "Sankofa         Haile Gerima               8  United States          1993   \n",
       "Jeans             S. Shankar               4          India          1998   \n",
       "Paranoia      Robert Luketic              10  United States          2013   \n",
       "Training Day   Antoine Fuqua              11  United States          2001   \n",
       "King of Boys    Kemi Adetiba               8        Nigeria          2018   \n",
       "\n",
       "             TV_Rating  Duration_Mins      Genre  Popular  \n",
       "Title                                                      \n",
       "Sankofa          TV-MA            125     Dramas        1  \n",
       "Jeans            TV-14            166   Comedies        1  \n",
       "Paranoia         PG-13            106  Thrillers        0  \n",
       "Training Day         R            122     Dramas        1  \n",
       "King of Boys     TV-MA            182     Dramas        0  "
      ]
     },
     "execution_count": 41,
     "metadata": {},
     "output_type": "execute_result"
    }
   ],
   "source": [
    "netflix_ratings.head()"
   ]
  },
  {
   "cell_type": "code",
   "execution_count": 42,
   "metadata": {},
   "outputs": [],
   "source": [
    "# Get rid of spaces in the columns Title, Director, Country, and Genre to insert into WEKA without errors\n",
    "# netflix_ratings[\"Title\"] = netflix_ratings[\"Title\"].apply(lambda x: x.replace(\" \", \"\"))\n",
    "# netflix_ratings[\"Director\"] = netflix_ratings[\"Director\"].apply(lambda x: x.replace(\" \", \"\"))\n",
    "# netflix_ratings[\"Country\"] = netflix_ratings[\"Country\"].apply(lambda x: x.replace(\" \", \"\"))\n",
    "# netflix_ratings[\"Genre\"] = netflix_ratings[\"Genre\"].apply(lambda x: x.replace(\" \", \"\"))\n",
    "# netflix_ratings.head()"
   ]
  },
  {
   "cell_type": "code",
   "execution_count": 45,
   "metadata": {},
   "outputs": [],
   "source": [
    "# !pip install rpy2"
   ]
  },
  {
   "cell_type": "code",
   "execution_count": 54,
   "metadata": {},
   "outputs": [],
   "source": [
    "# %load_ext rpy2.ipython"
   ]
  },
  {
   "cell_type": "code",
   "execution_count": 53,
   "metadata": {},
   "outputs": [],
   "source": [
    "# %%R \n",
    "# install.packages(\"foreign\")\n",
    "# library(foreign)\n",
    "# library(data.table)\n",
    "# a<-fread(\"Netflix_Ratings.csv\")\n",
    "# write.arff(a,file=\"netflix_ratings\")"
   ]
  },
  {
   "cell_type": "code",
   "execution_count": 43,
   "metadata": {},
   "outputs": [],
   "source": [
    "# Save dataframe to a csv file (Final dataframe we will be using for building models in WEKA)\n",
    "netflix_ratings.to_csv('Netflix_Ratings.csv')"
   ]
  },
  {
   "cell_type": "markdown",
   "metadata": {},
   "source": [
    "# Netflix Data Analysis"
   ]
  },
  {
   "cell_type": "code",
   "execution_count": 44,
   "metadata": {},
   "outputs": [],
   "source": [
    "import numpy as np\n",
    "import pandas as pd\n",
    "import matplotlib\n",
    "import matplotlib.pyplot as plt\n",
    "import seaborn as sns"
   ]
  },
  {
   "cell_type": "markdown",
   "metadata": {},
   "source": [
    "Data Cleaning and Setting"
   ]
  },
  {
   "cell_type": "code",
   "execution_count": 45,
   "metadata": {},
   "outputs": [
    {
     "data": {
      "text/html": [
       "<div>\n",
       "<style scoped>\n",
       "    .dataframe tbody tr th:only-of-type {\n",
       "        vertical-align: middle;\n",
       "    }\n",
       "\n",
       "    .dataframe tbody tr th {\n",
       "        vertical-align: top;\n",
       "    }\n",
       "\n",
       "    .dataframe thead th {\n",
       "        text-align: right;\n",
       "    }\n",
       "</style>\n",
       "<table border=\"1\" class=\"dataframe\">\n",
       "  <thead>\n",
       "    <tr style=\"text-align: right;\">\n",
       "      <th></th>\n",
       "      <th>show_id</th>\n",
       "      <th>type</th>\n",
       "      <th>title</th>\n",
       "      <th>director</th>\n",
       "      <th>cast</th>\n",
       "      <th>country</th>\n",
       "      <th>date_added</th>\n",
       "      <th>release_year</th>\n",
       "      <th>rating</th>\n",
       "      <th>duration</th>\n",
       "      <th>listed_in</th>\n",
       "      <th>description</th>\n",
       "    </tr>\n",
       "  </thead>\n",
       "  <tbody>\n",
       "    <tr>\n",
       "      <th>0</th>\n",
       "      <td>s1</td>\n",
       "      <td>Movie</td>\n",
       "      <td>Dick Johnson Is Dead</td>\n",
       "      <td>Kirsten Johnson</td>\n",
       "      <td>NaN</td>\n",
       "      <td>United States</td>\n",
       "      <td>September 25, 2021</td>\n",
       "      <td>2020</td>\n",
       "      <td>PG-13</td>\n",
       "      <td>90 min</td>\n",
       "      <td>Documentaries</td>\n",
       "      <td>As her father nears the end of his life, filmm...</td>\n",
       "    </tr>\n",
       "    <tr>\n",
       "      <th>1</th>\n",
       "      <td>s2</td>\n",
       "      <td>TV Show</td>\n",
       "      <td>Blood &amp; Water</td>\n",
       "      <td>NaN</td>\n",
       "      <td>Ama Qamata, Khosi Ngema, Gail Mabalane, Thaban...</td>\n",
       "      <td>South Africa</td>\n",
       "      <td>September 24, 2021</td>\n",
       "      <td>2021</td>\n",
       "      <td>TV-MA</td>\n",
       "      <td>2 Seasons</td>\n",
       "      <td>International TV Shows, TV Dramas, TV Mysteries</td>\n",
       "      <td>After crossing paths at a party, a Cape Town t...</td>\n",
       "    </tr>\n",
       "  </tbody>\n",
       "</table>\n",
       "</div>"
      ],
      "text/plain": [
       "  show_id     type                 title         director  \\\n",
       "0      s1    Movie  Dick Johnson Is Dead  Kirsten Johnson   \n",
       "1      s2  TV Show         Blood & Water              NaN   \n",
       "\n",
       "                                                cast        country  \\\n",
       "0                                                NaN  United States   \n",
       "1  Ama Qamata, Khosi Ngema, Gail Mabalane, Thaban...   South Africa   \n",
       "\n",
       "           date_added  release_year rating   duration  \\\n",
       "0  September 25, 2021          2020  PG-13     90 min   \n",
       "1  September 24, 2021          2021  TV-MA  2 Seasons   \n",
       "\n",
       "                                         listed_in  \\\n",
       "0                                    Documentaries   \n",
       "1  International TV Shows, TV Dramas, TV Mysteries   \n",
       "\n",
       "                                         description  \n",
       "0  As her father nears the end of his life, filmm...  \n",
       "1  After crossing paths at a party, a Cape Town t...  "
      ]
     },
     "execution_count": 45,
     "metadata": {},
     "output_type": "execute_result"
    }
   ],
   "source": [
    "# import the original Netflix dataset\n",
    "netflix = pd.read_csv(\"netflix_titles.csv\")\n",
    "netflix.head(2)"
   ]
  },
  {
   "cell_type": "code",
   "execution_count": 46,
   "metadata": {},
   "outputs": [
    {
     "data": {
      "text/plain": [
       "show_id            0\n",
       "type               0\n",
       "title              0\n",
       "director        2634\n",
       "cast             825\n",
       "country          831\n",
       "date_added        10\n",
       "release_year       0\n",
       "rating             4\n",
       "duration           3\n",
       "listed_in          0\n",
       "description        0\n",
       "dtype: int64"
      ]
     },
     "execution_count": 46,
     "metadata": {},
     "output_type": "execute_result"
    }
   ],
   "source": [
    "# Check to see missing rows\n",
    "netflix.T.apply(lambda x: x.isnull().sum(), axis = 1)"
   ]
  },
  {
   "cell_type": "code",
   "execution_count": 47,
   "metadata": {},
   "outputs": [],
   "source": [
    "# Drop the rows for raings and duratio  since not that many\n",
    "# Use fillna to replace the NAn values with suitable words\n",
    "netflix.director.fillna(\"No Director\", inplace=True)\n",
    "netflix.cast.fillna(\"No Cast Info\", inplace=True)\n",
    "netflix.country.fillna(\"No Information\", inplace=True)\n",
    "netflix.dropna(subset=[\"date_added\", \"rating\", \"duration\"], inplace=True)"
   ]
  },
  {
   "cell_type": "code",
   "execution_count": 48,
   "metadata": {},
   "outputs": [
    {
     "data": {
      "text/plain": [
       "show_id         0\n",
       "type            0\n",
       "title           0\n",
       "director        0\n",
       "cast            0\n",
       "country         0\n",
       "date_added      0\n",
       "release_year    0\n",
       "rating          0\n",
       "duration        0\n",
       "listed_in       0\n",
       "description     0\n",
       "dtype: int64"
      ]
     },
     "execution_count": 48,
     "metadata": {},
     "output_type": "execute_result"
    }
   ],
   "source": [
    "# Check to confirm no missing rows\n",
    "netflix.T.apply(lambda x: x.isnull().sum(), axis = 1)"
   ]
  },
  {
   "cell_type": "markdown",
   "metadata": {},
   "source": [
    "Which country produces the most content on Netflix?"
   ]
  },
  {
   "cell_type": "code",
   "execution_count": 49,
   "metadata": {
    "scrolled": false
   },
   "outputs": [
    {
     "data": {
      "image/png": "[encoded data removed]",
      "text/plain": [
       "<Figure size 936x504 with 1 Axes>"
      ]
     },
     "metadata": {
      "needs_background": "light"
     },
     "output_type": "display_data"
    }
   ],
   "source": [
    "# Which country produces the most content on Netflix\n",
    "# Clearly we can see it is the United States\n",
    "# countries = netflix.set_index('title').country.str.split(', ', expand=True).stack().reset_index(level=1, drop=True);\n",
    "# countries = countries[countries != 'No Information']\n",
    "\n",
    "countries = netflix[\"country\"].apply(lambda x: x.split(\",\")[0])\n",
    "countries = countries[countries != 'No Information']\n",
    "\n",
    "plt.figure(figsize=(13,7))\n",
    "sns.countplot(y = countries, order=countries.value_counts().index[:10])\n",
    "plt.title(\"Top 10 Countries producing the highest content on Netflix\")\n",
    "plt.xlabel(\"Titles\")\n",
    "plt.ylabel(\"Country\")\n",
    "plt.show()"
   ]
  },
  {
   "cell_type": "code",
   "execution_count": 50,
   "metadata": {},
   "outputs": [
    {
     "data": {
      "text/plain": [
       "1942"
      ]
     },
     "execution_count": 50,
     "metadata": {},
     "output_type": "execute_result"
    }
   ],
   "source": [
    "min(netflix_movies[\"release_year\"])"
   ]
  },
  {
   "cell_type": "markdown",
   "metadata": {},
   "source": [
    "What is the oldest show/movie on Netflix?"
   ]
  },
  {
   "cell_type": "code",
   "execution_count": 51,
   "metadata": {},
   "outputs": [],
   "source": [
    "# What is the oldest show/movie on Netflix\n",
    "netflix_movies = netflix[netflix['type']=='Movie']\n",
    "netflix_shows = netflix[netflix['type']=='TV Show']\n",
    "#netflix_movies[\"title\"][netflix_movies[\"release_year\"]== min(netflix_movies[\"release_year\"])]"
   ]
  },
  {
   "cell_type": "code",
   "execution_count": 52,
   "metadata": {},
   "outputs": [
    {
     "data": {
      "text/html": [
       "<div>\n",
       "<style scoped>\n",
       "    .dataframe tbody tr th:only-of-type {\n",
       "        vertical-align: middle;\n",
       "    }\n",
       "\n",
       "    .dataframe tbody tr th {\n",
       "        vertical-align: top;\n",
       "    }\n",
       "\n",
       "    .dataframe thead th {\n",
       "        text-align: right;\n",
       "    }\n",
       "</style>\n",
       "<table border=\"1\" class=\"dataframe\">\n",
       "  <thead>\n",
       "    <tr style=\"text-align: right;\">\n",
       "      <th></th>\n",
       "      <th>show_id</th>\n",
       "      <th>type</th>\n",
       "      <th>title</th>\n",
       "      <th>director</th>\n",
       "      <th>cast</th>\n",
       "      <th>country</th>\n",
       "      <th>date_added</th>\n",
       "      <th>release_year</th>\n",
       "      <th>rating</th>\n",
       "      <th>duration</th>\n",
       "      <th>listed_in</th>\n",
       "      <th>description</th>\n",
       "    </tr>\n",
       "  </thead>\n",
       "  <tbody>\n",
       "    <tr>\n",
       "      <th>7790</th>\n",
       "      <td>s7791</td>\n",
       "      <td>Movie</td>\n",
       "      <td>Prelude to War</td>\n",
       "      <td>Frank Capra</td>\n",
       "      <td>No Cast Info</td>\n",
       "      <td>United States</td>\n",
       "      <td>March 31, 2017</td>\n",
       "      <td>1942</td>\n",
       "      <td>TV-14</td>\n",
       "      <td>52 min</td>\n",
       "      <td>Classic Movies, Documentaries</td>\n",
       "      <td>Frank Capra's documentary chronicles the rise ...</td>\n",
       "    </tr>\n",
       "    <tr>\n",
       "      <th>8205</th>\n",
       "      <td>s8206</td>\n",
       "      <td>Movie</td>\n",
       "      <td>The Battle of Midway</td>\n",
       "      <td>John Ford</td>\n",
       "      <td>Henry Fonda, Jane Darwell</td>\n",
       "      <td>United States</td>\n",
       "      <td>March 31, 2017</td>\n",
       "      <td>1942</td>\n",
       "      <td>TV-14</td>\n",
       "      <td>18 min</td>\n",
       "      <td>Classic Movies, Documentaries</td>\n",
       "      <td>Director John Ford captures combat footage of ...</td>\n",
       "    </tr>\n",
       "  </tbody>\n",
       "</table>\n",
       "</div>"
      ],
      "text/plain": [
       "     show_id   type                 title     director  \\\n",
       "7790   s7791  Movie        Prelude to War  Frank Capra   \n",
       "8205   s8206  Movie  The Battle of Midway    John Ford   \n",
       "\n",
       "                           cast        country      date_added  release_year  \\\n",
       "7790               No Cast Info  United States  March 31, 2017          1942   \n",
       "8205  Henry Fonda, Jane Darwell  United States  March 31, 2017          1942   \n",
       "\n",
       "     rating duration                      listed_in  \\\n",
       "7790  TV-14   52 min  Classic Movies, Documentaries   \n",
       "8205  TV-14   18 min  Classic Movies, Documentaries   \n",
       "\n",
       "                                            description  \n",
       "7790  Frank Capra's documentary chronicles the rise ...  \n",
       "8205  Director John Ford captures combat footage of ...  "
      ]
     },
     "execution_count": 52,
     "metadata": {},
     "output_type": "execute_result"
    }
   ],
   "source": [
    "# The oldest movies on Netflix\n",
    "# We can see therewere two movies made that year; both their dates are the same\n",
    "# Probably same movie woth different title\n",
    "netflix_movies[netflix_movies[\"release_year\"]==min(netflix_movies[\"release_year\"])]"
   ]
  },
  {
   "cell_type": "code",
   "execution_count": 53,
   "metadata": {},
   "outputs": [
    {
     "data": {
      "text/html": [
       "<div>\n",
       "<style scoped>\n",
       "    .dataframe tbody tr th:only-of-type {\n",
       "        vertical-align: middle;\n",
       "    }\n",
       "\n",
       "    .dataframe tbody tr th {\n",
       "        vertical-align: top;\n",
       "    }\n",
       "\n",
       "    .dataframe thead th {\n",
       "        text-align: right;\n",
       "    }\n",
       "</style>\n",
       "<table border=\"1\" class=\"dataframe\">\n",
       "  <thead>\n",
       "    <tr style=\"text-align: right;\">\n",
       "      <th></th>\n",
       "      <th>show_id</th>\n",
       "      <th>type</th>\n",
       "      <th>title</th>\n",
       "      <th>director</th>\n",
       "      <th>cast</th>\n",
       "      <th>country</th>\n",
       "      <th>date_added</th>\n",
       "      <th>release_year</th>\n",
       "      <th>rating</th>\n",
       "      <th>duration</th>\n",
       "      <th>listed_in</th>\n",
       "      <th>description</th>\n",
       "    </tr>\n",
       "  </thead>\n",
       "  <tbody>\n",
       "    <tr>\n",
       "      <th>4250</th>\n",
       "      <td>s4251</td>\n",
       "      <td>TV Show</td>\n",
       "      <td>Pioneers: First Women Filmmakers*</td>\n",
       "      <td>No Director</td>\n",
       "      <td>No Cast Info</td>\n",
       "      <td>No Information</td>\n",
       "      <td>December 30, 2018</td>\n",
       "      <td>1925</td>\n",
       "      <td>TV-14</td>\n",
       "      <td>1 Season</td>\n",
       "      <td>TV Shows</td>\n",
       "      <td>This collection restores films from women who ...</td>\n",
       "    </tr>\n",
       "  </tbody>\n",
       "</table>\n",
       "</div>"
      ],
      "text/plain": [
       "     show_id     type                              title     director  \\\n",
       "4250   s4251  TV Show  Pioneers: First Women Filmmakers*  No Director   \n",
       "\n",
       "              cast         country         date_added  release_year rating  \\\n",
       "4250  No Cast Info  No Information  December 30, 2018          1925  TV-14   \n",
       "\n",
       "      duration listed_in                                        description  \n",
       "4250  1 Season  TV Shows  This collection restores films from women who ...  "
      ]
     },
     "execution_count": 53,
     "metadata": {},
     "output_type": "execute_result"
    }
   ],
   "source": [
    "# The oldest show on Netflix\n",
    "netflix_shows[netflix_shows[\"release_year\"]==min(netflix_shows[\"release_year\"])]"
   ]
  },
  {
   "cell_type": "markdown",
   "metadata": {},
   "source": [
    "Which category is more popular: TV Show or Movies?"
   ]
  },
  {
   "cell_type": "code",
   "execution_count": 54,
   "metadata": {},
   "outputs": [
    {
     "data": {
      "image/png": "[encoded data removed]",
      "text/plain": [
       "<Figure size 864x432 with 1 Axes>"
      ]
     },
     "metadata": {},
     "output_type": "display_data"
    }
   ],
   "source": [
    "# We can see 30.3% of Netflix content is TV shows and the majority (69.7%) is movies\n",
    "# The TV show make up less than half of the whole content that's produced on Netflix\n",
    "plt.figure(figsize=(12,6))\n",
    "plt.title(\"Category Percentages that are either Movies or TV Shows\", size =20)\n",
    "g = plt.pie(netflix.type.value_counts(),explode=(0.025,0.025), labels=netflix.type.value_counts().index, colors=['red','pink'],autopct='%1.1f%%', startangle=180, textprops={'fontsize': 20, 'color': \"black\"})\n",
    "plt.show()"
   ]
  },
  {
   "cell_type": "markdown",
   "metadata": {},
   "source": [
    "Which category produces more content yearly on Netflix?"
   ]
  },
  {
   "cell_type": "code",
   "execution_count": 55,
   "metadata": {},
   "outputs": [
    {
     "name": "stderr",
     "output_type": "stream",
     "text": [
      "C:\\Users\\Sarah\\Anaconda3\\lib\\site-packages\\ipykernel_launcher.py:3: UserWarning: Pandas doesn't allow columns to be created via a new attribute name - see https://pandas.pydata.org/pandas-docs/stable/indexing.html#attribute-access\n",
      "  This is separate from the ipykernel package so we can avoid doing imports until\n",
      "C:\\Users\\Sarah\\Anaconda3\\lib\\site-packages\\ipykernel_launcher.py:4: UserWarning: Pandas doesn't allow columns to be created via a new attribute name - see https://pandas.pydata.org/pandas-docs/stable/indexing.html#attribute-access\n",
      "  after removing the cwd from sys.path.\n",
      "C:\\Users\\Sarah\\Anaconda3\\lib\\site-packages\\ipykernel_launcher.py:5: UserWarning: Pandas doesn't allow columns to be created via a new attribute name - see https://pandas.pydata.org/pandas-docs/stable/indexing.html#attribute-access\n",
      "  \"\"\"\n"
     ]
    }
   ],
   "source": [
    "# We will be looking at the date_added column as we want to explore how often Netflix adds content (and which category)\n",
    "# The date_added year starts from 2008 as per our dataset\n",
    "netflix.year_added = pd.DatetimeIndex(netflix.date_added).year\n",
    "netflix_movies.year_added = pd.DatetimeIndex(netflix_movies.date_added).year\n",
    "netflix_shows.year_added = pd.DatetimeIndex(netflix_shows.date_added).year"
   ]
  },
  {
   "cell_type": "code",
   "execution_count": 56,
   "metadata": {},
   "outputs": [],
   "source": [
    "netflix_year = netflix.year_added.value_counts().to_frame().reset_index().rename(columns={\"index\": \"year\", \"year_added\":\"count\"})\n",
    "\n",
    "movies_year = netflix_movies.year_added.value_counts().to_frame().reset_index().rename(columns={\"index\": \"year\", \"year_added\":\"count\"})\n",
    "\n",
    "shows_year = netflix_shows.year_added.value_counts().to_frame().reset_index().rename(columns={\"index\": \"year\", \"year_added\":\"count\"})\n"
   ]
  },
  {
   "cell_type": "code",
   "execution_count": 57,
   "metadata": {},
   "outputs": [],
   "source": [
    "# Sort the values in each dataframe\n",
    "netflix_year.sort_values(by = [\"year\"], axis = 0, inplace = True)\n",
    "movies_year.sort_values(by = [\"year\"], axis = 0, inplace = True)\n",
    "shows_year.sort_values(by = [\"year\"], axis = 0, inplace = True)"
   ]
  },
  {
   "cell_type": "code",
   "execution_count": 58,
   "metadata": {},
   "outputs": [],
   "source": [
    "# Reset the index for each dataframe\n",
    "netflix_year.set_index('year', inplace=True)\n",
    "movies_year.set_index('year', inplace=True)\n",
    "shows_year.set_index('year', inplace=True)"
   ]
  },
  {
   "cell_type": "code",
   "execution_count": 59,
   "metadata": {},
   "outputs": [
    {
     "data": {
      "text/plain": [
       "<matplotlib.legend.Legend at 0x2d81cfa9630>"
      ]
     },
     "execution_count": 59,
     "metadata": {},
     "output_type": "execute_result"
    },
    {
     "data": {
      "image/png": "[encoded data removed]",
      "text/plain": [
       "<Figure size 432x288 with 1 Axes>"
      ]
     },
     "metadata": {
      "needs_background": "light"
     },
     "output_type": "display_data"
    }
   ],
   "source": [
    "# We can see clearly that the Movie category produces more content on Netflix\n",
    "# plt.plot(netflix_year, label = \"Total\")\n",
    "plt.plot(movies_year, label = \"Movies\")\n",
    "plt.plot(shows_year, label = \"TV Shows\")\n",
    "plt.legend(loc=\"upper left\")"
   ]
  },
  {
   "cell_type": "markdown",
   "metadata": {},
   "source": [
    "- Find the movie with the longest duration on Netflix\n",
    "- FInd the show with the highest number of seasons on Netflix"
   ]
  },
  {
   "cell_type": "code",
   "execution_count": 60,
   "metadata": {},
   "outputs": [
    {
     "data": {
      "text/html": [
       "<div>\n",
       "<style scoped>\n",
       "    .dataframe tbody tr th:only-of-type {\n",
       "        vertical-align: middle;\n",
       "    }\n",
       "\n",
       "    .dataframe tbody tr th {\n",
       "        vertical-align: top;\n",
       "    }\n",
       "\n",
       "    .dataframe thead th {\n",
       "        text-align: right;\n",
       "    }\n",
       "</style>\n",
       "<table border=\"1\" class=\"dataframe\">\n",
       "  <thead>\n",
       "    <tr style=\"text-align: right;\">\n",
       "      <th></th>\n",
       "      <th>show_id</th>\n",
       "      <th>type</th>\n",
       "      <th>title</th>\n",
       "      <th>director</th>\n",
       "      <th>cast</th>\n",
       "      <th>country</th>\n",
       "      <th>date_added</th>\n",
       "      <th>release_year</th>\n",
       "      <th>rating</th>\n",
       "      <th>duration</th>\n",
       "      <th>listed_in</th>\n",
       "      <th>description</th>\n",
       "    </tr>\n",
       "  </thead>\n",
       "  <tbody>\n",
       "    <tr>\n",
       "      <th>0</th>\n",
       "      <td>s1</td>\n",
       "      <td>Movie</td>\n",
       "      <td>Dick Johnson Is Dead</td>\n",
       "      <td>Kirsten Johnson</td>\n",
       "      <td>No Cast Info</td>\n",
       "      <td>United States</td>\n",
       "      <td>September 25, 2021</td>\n",
       "      <td>2020</td>\n",
       "      <td>PG-13</td>\n",
       "      <td>90 min</td>\n",
       "      <td>Documentaries</td>\n",
       "      <td>As her father nears the end of his life, filmm...</td>\n",
       "    </tr>\n",
       "    <tr>\n",
       "      <th>6</th>\n",
       "      <td>s7</td>\n",
       "      <td>Movie</td>\n",
       "      <td>My Little Pony: A New Generation</td>\n",
       "      <td>Robert Cullen, José Luis Ucha</td>\n",
       "      <td>Vanessa Hudgens, Kimiko Glenn, James Marsden, ...</td>\n",
       "      <td>No Information</td>\n",
       "      <td>September 24, 2021</td>\n",
       "      <td>2021</td>\n",
       "      <td>PG</td>\n",
       "      <td>91 min</td>\n",
       "      <td>Children &amp; Family Movies</td>\n",
       "      <td>Equestria's divided. But a bright-eyed hero be...</td>\n",
       "    </tr>\n",
       "  </tbody>\n",
       "</table>\n",
       "</div>"
      ],
      "text/plain": [
       "  show_id   type                             title  \\\n",
       "0      s1  Movie              Dick Johnson Is Dead   \n",
       "6      s7  Movie  My Little Pony: A New Generation   \n",
       "\n",
       "                        director  \\\n",
       "0                Kirsten Johnson   \n",
       "6  Robert Cullen, José Luis Ucha   \n",
       "\n",
       "                                                cast         country  \\\n",
       "0                                       No Cast Info   United States   \n",
       "6  Vanessa Hudgens, Kimiko Glenn, James Marsden, ...  No Information   \n",
       "\n",
       "           date_added  release_year rating duration                 listed_in  \\\n",
       "0  September 25, 2021          2020  PG-13   90 min             Documentaries   \n",
       "6  September 24, 2021          2021     PG   91 min  Children & Family Movies   \n",
       "\n",
       "                                         description  \n",
       "0  As her father nears the end of his life, filmm...  \n",
       "6  Equestria's divided. But a bright-eyed hero be...  "
      ]
     },
     "execution_count": 60,
     "metadata": {},
     "output_type": "execute_result"
    }
   ],
   "source": [
    "# Check the dataset to see how the duration column looks like\n",
    "netflix_movies.head(2)"
   ]
  },
  {
   "cell_type": "code",
   "execution_count": 61,
   "metadata": {},
   "outputs": [
    {
     "data": {
      "text/plain": [
       "str"
      ]
     },
     "execution_count": 61,
     "metadata": {},
     "output_type": "execute_result"
    }
   ],
   "source": [
    "# We see the duration column is string. We need to get the first element whihc is the actual mins like 90 only\n",
    "type(netflix_movies[\"duration\"][0])"
   ]
  },
  {
   "cell_type": "code",
   "execution_count": 62,
   "metadata": {},
   "outputs": [
    {
     "name": "stderr",
     "output_type": "stream",
     "text": [
      "C:\\Users\\Sarah\\Anaconda3\\lib\\site-packages\\ipykernel_launcher.py:1: SettingWithCopyWarning: \n",
      "A value is trying to be set on a copy of a slice from a DataFrame.\n",
      "Try using .loc[row_indexer,col_indexer] = value instead\n",
      "\n",
      "See the caveats in the documentation: http://pandas.pydata.org/pandas-docs/stable/indexing.html#indexing-view-versus-copy\n",
      "  \"\"\"Entry point for launching an IPython kernel.\n"
     ]
    }
   ],
   "source": [
    "netflix_movies[\"duration\"] = netflix_movies[\"duration\"].apply(lambda x: int(x.split(\" \")[0]))"
   ]
  },
  {
   "cell_type": "code",
   "execution_count": 63,
   "metadata": {},
   "outputs": [
    {
     "name": "stderr",
     "output_type": "stream",
     "text": [
      "C:\\Users\\Sarah\\Anaconda3\\lib\\site-packages\\pandas\\core\\frame.py:3781: SettingWithCopyWarning: \n",
      "A value is trying to be set on a copy of a slice from a DataFrame\n",
      "\n",
      "See the caveats in the documentation: http://pandas.pydata.org/pandas-docs/stable/indexing.html#indexing-view-versus-copy\n",
      "  return super(DataFrame, self).rename(**kwargs)\n"
     ]
    }
   ],
   "source": [
    "# Change the column name for our understanding\n",
    "netflix_movies.rename(columns = {'duration':'duration in mins'}, inplace = True)"
   ]
  },
  {
   "cell_type": "code",
   "execution_count": 64,
   "metadata": {},
   "outputs": [
    {
     "data": {
      "text/html": [
       "<div>\n",
       "<style scoped>\n",
       "    .dataframe tbody tr th:only-of-type {\n",
       "        vertical-align: middle;\n",
       "    }\n",
       "\n",
       "    .dataframe tbody tr th {\n",
       "        vertical-align: top;\n",
       "    }\n",
       "\n",
       "    .dataframe thead th {\n",
       "        text-align: right;\n",
       "    }\n",
       "</style>\n",
       "<table border=\"1\" class=\"dataframe\">\n",
       "  <thead>\n",
       "    <tr style=\"text-align: right;\">\n",
       "      <th></th>\n",
       "      <th>show_id</th>\n",
       "      <th>type</th>\n",
       "      <th>title</th>\n",
       "      <th>director</th>\n",
       "      <th>cast</th>\n",
       "      <th>country</th>\n",
       "      <th>date_added</th>\n",
       "      <th>release_year</th>\n",
       "      <th>rating</th>\n",
       "      <th>duration in mins</th>\n",
       "      <th>listed_in</th>\n",
       "      <th>description</th>\n",
       "    </tr>\n",
       "  </thead>\n",
       "  <tbody>\n",
       "    <tr>\n",
       "      <th>4253</th>\n",
       "      <td>s4254</td>\n",
       "      <td>Movie</td>\n",
       "      <td>Black Mirror: Bandersnatch</td>\n",
       "      <td>No Director</td>\n",
       "      <td>Fionn Whitehead, Will Poulter, Craig Parkinson...</td>\n",
       "      <td>United States</td>\n",
       "      <td>December 28, 2018</td>\n",
       "      <td>2018</td>\n",
       "      <td>TV-MA</td>\n",
       "      <td>312</td>\n",
       "      <td>Dramas, International Movies, Sci-Fi &amp; Fantasy</td>\n",
       "      <td>In 1984, a young programmer begins to question...</td>\n",
       "    </tr>\n",
       "  </tbody>\n",
       "</table>\n",
       "</div>"
      ],
      "text/plain": [
       "     show_id   type                       title     director  \\\n",
       "4253   s4254  Movie  Black Mirror: Bandersnatch  No Director   \n",
       "\n",
       "                                                   cast        country  \\\n",
       "4253  Fionn Whitehead, Will Poulter, Craig Parkinson...  United States   \n",
       "\n",
       "             date_added  release_year rating  duration in mins  \\\n",
       "4253  December 28, 2018          2018  TV-MA               312   \n",
       "\n",
       "                                           listed_in  \\\n",
       "4253  Dramas, International Movies, Sci-Fi & Fantasy   \n",
       "\n",
       "                                            description  \n",
       "4253  In 1984, a young programmer begins to question...  "
      ]
     },
     "execution_count": 64,
     "metadata": {},
     "output_type": "execute_result"
    }
   ],
   "source": [
    "# Movie with the longest duration\n",
    "# We see the movie with 312 mins which is ~ 5 hours\n",
    "netflix_movies[netflix_movies[\"duration in mins\"]==max(netflix_movies[\"duration in mins\"])]"
   ]
  },
  {
   "cell_type": "code",
   "execution_count": 65,
   "metadata": {},
   "outputs": [
    {
     "data": {
      "text/html": [
       "<div>\n",
       "<style scoped>\n",
       "    .dataframe tbody tr th:only-of-type {\n",
       "        vertical-align: middle;\n",
       "    }\n",
       "\n",
       "    .dataframe tbody tr th {\n",
       "        vertical-align: top;\n",
       "    }\n",
       "\n",
       "    .dataframe thead th {\n",
       "        text-align: right;\n",
       "    }\n",
       "</style>\n",
       "<table border=\"1\" class=\"dataframe\">\n",
       "  <thead>\n",
       "    <tr style=\"text-align: right;\">\n",
       "      <th></th>\n",
       "      <th>show_id</th>\n",
       "      <th>type</th>\n",
       "      <th>title</th>\n",
       "      <th>director</th>\n",
       "      <th>cast</th>\n",
       "      <th>country</th>\n",
       "      <th>date_added</th>\n",
       "      <th>release_year</th>\n",
       "      <th>rating</th>\n",
       "      <th>duration</th>\n",
       "      <th>listed_in</th>\n",
       "      <th>description</th>\n",
       "    </tr>\n",
       "  </thead>\n",
       "  <tbody>\n",
       "    <tr>\n",
       "      <th>1</th>\n",
       "      <td>s2</td>\n",
       "      <td>TV Show</td>\n",
       "      <td>Blood &amp; Water</td>\n",
       "      <td>No Director</td>\n",
       "      <td>Ama Qamata, Khosi Ngema, Gail Mabalane, Thaban...</td>\n",
       "      <td>South Africa</td>\n",
       "      <td>September 24, 2021</td>\n",
       "      <td>2021</td>\n",
       "      <td>TV-MA</td>\n",
       "      <td>2 Seasons</td>\n",
       "      <td>International TV Shows, TV Dramas, TV Mysteries</td>\n",
       "      <td>After crossing paths at a party, a Cape Town t...</td>\n",
       "    </tr>\n",
       "    <tr>\n",
       "      <th>2</th>\n",
       "      <td>s3</td>\n",
       "      <td>TV Show</td>\n",
       "      <td>Ganglands</td>\n",
       "      <td>Julien Leclercq</td>\n",
       "      <td>Sami Bouajila, Tracy Gotoas, Samuel Jouy, Nabi...</td>\n",
       "      <td>No Information</td>\n",
       "      <td>September 24, 2021</td>\n",
       "      <td>2021</td>\n",
       "      <td>TV-MA</td>\n",
       "      <td>1 Season</td>\n",
       "      <td>Crime TV Shows, International TV Shows, TV Act...</td>\n",
       "      <td>To protect his family from a powerful drug lor...</td>\n",
       "    </tr>\n",
       "  </tbody>\n",
       "</table>\n",
       "</div>"
      ],
      "text/plain": [
       "  show_id     type          title         director  \\\n",
       "1      s2  TV Show  Blood & Water      No Director   \n",
       "2      s3  TV Show      Ganglands  Julien Leclercq   \n",
       "\n",
       "                                                cast         country  \\\n",
       "1  Ama Qamata, Khosi Ngema, Gail Mabalane, Thaban...    South Africa   \n",
       "2  Sami Bouajila, Tracy Gotoas, Samuel Jouy, Nabi...  No Information   \n",
       "\n",
       "           date_added  release_year rating   duration  \\\n",
       "1  September 24, 2021          2021  TV-MA  2 Seasons   \n",
       "2  September 24, 2021          2021  TV-MA   1 Season   \n",
       "\n",
       "                                           listed_in  \\\n",
       "1    International TV Shows, TV Dramas, TV Mysteries   \n",
       "2  Crime TV Shows, International TV Shows, TV Act...   \n",
       "\n",
       "                                         description  \n",
       "1  After crossing paths at a party, a Cape Town t...  \n",
       "2  To protect his family from a powerful drug lor...  "
      ]
     },
     "execution_count": 65,
     "metadata": {},
     "output_type": "execute_result"
    }
   ],
   "source": [
    "# Check the shows duration column\n",
    "netflix_shows.head(2)"
   ]
  },
  {
   "cell_type": "code",
   "execution_count": 66,
   "metadata": {},
   "outputs": [
    {
     "name": "stderr",
     "output_type": "stream",
     "text": [
      "C:\\Users\\Sarah\\Anaconda3\\lib\\site-packages\\ipykernel_launcher.py:2: SettingWithCopyWarning: \n",
      "A value is trying to be set on a copy of a slice from a DataFrame.\n",
      "Try using .loc[row_indexer,col_indexer] = value instead\n",
      "\n",
      "See the caveats in the documentation: http://pandas.pydata.org/pandas-docs/stable/indexing.html#indexing-view-versus-copy\n",
      "  \n"
     ]
    }
   ],
   "source": [
    "# Do the same thing we did for the netflix movies dataframe\n",
    "netflix_shows[\"duration\"] = netflix_shows[\"duration\"].apply(lambda x: int(x.split(\" \")[0]))"
   ]
  },
  {
   "cell_type": "code",
   "execution_count": 67,
   "metadata": {},
   "outputs": [],
   "source": [
    "# Change the column name for our understanding\n",
    "netflix_shows.rename(columns = {'duration':'duration (seasons)' }, inplace = True)"
   ]
  },
  {
   "cell_type": "code",
   "execution_count": 68,
   "metadata": {},
   "outputs": [
    {
     "data": {
      "text/html": [
       "<div>\n",
       "<style scoped>\n",
       "    .dataframe tbody tr th:only-of-type {\n",
       "        vertical-align: middle;\n",
       "    }\n",
       "\n",
       "    .dataframe tbody tr th {\n",
       "        vertical-align: top;\n",
       "    }\n",
       "\n",
       "    .dataframe thead th {\n",
       "        text-align: right;\n",
       "    }\n",
       "</style>\n",
       "<table border=\"1\" class=\"dataframe\">\n",
       "  <thead>\n",
       "    <tr style=\"text-align: right;\">\n",
       "      <th></th>\n",
       "      <th>show_id</th>\n",
       "      <th>type</th>\n",
       "      <th>title</th>\n",
       "      <th>director</th>\n",
       "      <th>cast</th>\n",
       "      <th>country</th>\n",
       "      <th>date_added</th>\n",
       "      <th>release_year</th>\n",
       "      <th>rating</th>\n",
       "      <th>duration (seasons)</th>\n",
       "      <th>listed_in</th>\n",
       "      <th>description</th>\n",
       "    </tr>\n",
       "  </thead>\n",
       "  <tbody>\n",
       "    <tr>\n",
       "      <th>548</th>\n",
       "      <td>s549</td>\n",
       "      <td>TV Show</td>\n",
       "      <td>Grey's Anatomy</td>\n",
       "      <td>No Director</td>\n",
       "      <td>Ellen Pompeo, Sandra Oh, Katherine Heigl, Just...</td>\n",
       "      <td>United States</td>\n",
       "      <td>July 3, 2021</td>\n",
       "      <td>2020</td>\n",
       "      <td>TV-14</td>\n",
       "      <td>17</td>\n",
       "      <td>Romantic TV Shows, TV Dramas</td>\n",
       "      <td>Intern (and eventual resident) Meredith Grey f...</td>\n",
       "    </tr>\n",
       "  </tbody>\n",
       "</table>\n",
       "</div>"
      ],
      "text/plain": [
       "    show_id     type           title     director  \\\n",
       "548    s549  TV Show  Grey's Anatomy  No Director   \n",
       "\n",
       "                                                  cast        country  \\\n",
       "548  Ellen Pompeo, Sandra Oh, Katherine Heigl, Just...  United States   \n",
       "\n",
       "       date_added  release_year rating  duration (seasons)  \\\n",
       "548  July 3, 2021          2020  TV-14                  17   \n",
       "\n",
       "                        listed_in  \\\n",
       "548  Romantic TV Shows, TV Dramas   \n",
       "\n",
       "                                           description  \n",
       "548  Intern (and eventual resident) Meredith Grey f...  "
      ]
     },
     "execution_count": 68,
     "metadata": {},
     "output_type": "execute_result"
    }
   ],
   "source": [
    "# Show with the highest number of seasons\n",
    "netflix_shows[netflix_shows[\"duration (seasons)\"]==max(netflix_shows[\"duration (seasons)\" ])]"
   ]
  },
  {
   "cell_type": "markdown",
   "metadata": {},
   "source": [
    "Top Genre on Netflix"
   ]
  },
  {
   "cell_type": "code",
   "execution_count": 69,
   "metadata": {},
   "outputs": [
    {
     "data": {
      "image/png": "[encoded data removed]",
      "text/plain": [
       "<Figure size 504x648 with 1 Axes>"
      ]
     },
     "metadata": {
      "needs_background": "light"
     },
     "output_type": "display_data"
    }
   ],
   "source": [
    "# The top genre is dramas\n",
    "#all_genres = netflix.set_index('title').listed_in.str.split(', ', expand=True).stack().reset_index(level=1, drop=True);\n",
    "\n",
    "genres = netflix[\"listed_in\"].apply(lambda x: x.split(\",\")[0])\n",
    "\n",
    "plt.figure(figsize=(7,9))\n",
    "g = sns.countplot(y = genres, order=genres.value_counts().index[:10])\n",
    "plt.title('Top 10 Genres on Netflix')\n",
    "plt.xlabel('Titles')\n",
    "plt.ylabel('Genres')\n",
    "plt.show()"
   ]
  },
  {
   "cell_type": "markdown",
   "metadata": {},
   "source": [
    "How many Movies on Netflix are highly rated Vs Not highly rated?\n"
   ]
  },
  {
   "cell_type": "code",
   "execution_count": 70,
   "metadata": {},
   "outputs": [],
   "source": [
    "# popular = len(netflix_ratings[netflix_ratings[\"Popular\"] == 1])\n",
    "# not_popular = len(netflix_ratings[netflix_ratings[\"Popular\"] == 0])\n",
    "# total = popular+not_popular"
   ]
  },
  {
   "cell_type": "code",
   "execution_count": 71,
   "metadata": {
    "scrolled": false
   },
   "outputs": [
    {
     "data": {
      "image/png": "[encoded data removed]",
      "text/plain": [
       "<Figure size 864x432 with 1 Axes>"
      ]
     },
     "metadata": {},
     "output_type": "display_data"
    }
   ],
   "source": [
    "# Based on our dataset and our criteria (below 6.5 = not popular, above 6.5 = popular):\n",
    "plt.figure(figsize=(12,6))\n",
    "plt.title(\"Percentages of popular Vs not popular movies on Netflix\", size =20)\n",
    "g = plt.pie(netflix_ratings.Popular.value_counts(),explode=(0.025,0.025), labels=netflix_ratings.Popular.value_counts().index, colors=['orange','yellow'],autopct='%1.1f%%', startangle=180, textprops={'fontsize': 20, 'color': \"black\"})\n",
    "plt.show()"
   ]
  }
 ],
 "metadata": {
  "kernelspec": {
   "display_name": "Python 3 (ipykernel)",
   "language": "python",
   "name": "python3"
  },
  "language_info": {
   "codemirror_mode": {
    "name": "ipython",
    "version": 3
   },
   "file_extension": ".py",
   "mimetype": "text/x-python",
   "name": "python",
   "nbconvert_exporter": "python",
   "pygments_lexer": "ipython3",
   "version": "3.9.7"
  }
 },
 "nbformat": 4,
 "nbformat_minor": 2
}
